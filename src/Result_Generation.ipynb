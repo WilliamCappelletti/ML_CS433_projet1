{
 "cells": [
  {
   "cell_type": "code",
   "execution_count": 1,
   "metadata": {},
   "outputs": [],
   "source": [
    "%matplotlib inline\n",
    "import numpy as np\n",
    "import matplotlib.pyplot as plt\n",
    "import seaborn as sns\n",
    "%load_ext autoreload\n",
    "%autoreload 2\n",
    "\n",
    "sns.set()"
   ]
  },
  {
   "cell_type": "code",
   "execution_count": 2,
   "metadata": {},
   "outputs": [],
   "source": [
    "from Regressions import *"
   ]
  },
  {
   "cell_type": "code",
   "execution_count": 3,
   "metadata": {},
   "outputs": [],
   "source": [
    "y_tr, X_tr, ids_tr = load_csv_data('../Data/train.csv')\n",
    "y_te, X_te, ids_te = load_csv_data('../Data/test.csv')"
   ]
  },
  {
   "cell_type": "code",
   "execution_count": 4,
   "metadata": {},
   "outputs": [],
   "source": [
    "y_tr[y_tr==-1] = 0\n",
    "y_te[y_te==-1] = 0"
   ]
  },
  {
   "cell_type": "markdown",
   "metadata": {},
   "source": [
    "# Training data preparation"
   ]
  },
  {
   "cell_type": "markdown",
   "metadata": {},
   "source": [
    "## Neutral data"
   ]
  },
  {
   "cell_type": "code",
   "execution_count": 9,
   "metadata": {},
   "outputs": [],
   "source": [
    "X_tr_neutral = preliminary_treatment_X(X_tr, imp_method=\"median\")\n"
   ]
  },
  {
   "cell_type": "markdown",
   "metadata": {},
   "source": [
    "## Logarithmic data"
   ]
  },
  {
   "cell_type": "code",
   "execution_count": 5,
   "metadata": {},
   "outputs": [],
   "source": [
    "x_nan = X_tr.copy()\n",
    "x_nan[x_nan==-999]=np.nan\n",
    "\n",
    "# add log transformations\n",
    "x_nan[:,3] = log_plus(x_nan[:,3], 3)\n",
    "x_nan[:,8] = log_plus(x_nan[:,8], 1)\n",
    "x_nan[:,13] = log_plus(x_nan[:,13], 1)\n",
    "x_nan[:,16] = log_plus(x_nan[:,16], 1)\n",
    "x_nan[:,19] = log_plus(x_nan[:,19], 2)\n",
    "x_nan[:,23] = log_plus(x_nan[:,23], 2)\n",
    "x_nan[:,29] = log_plus(x_nan[:,29], 1)\n",
    "\n",
    "# transform nan back into -999\n",
    "x_nan[np.isnan(x_nan)]=-999\n",
    "\n",
    "X_tr_log = preliminary_treatment_X(x_nan, imp_method=\"median\")"
   ]
  },
  {
   "cell_type": "code",
   "execution_count": null,
   "metadata": {},
   "outputs": [],
   "source": []
  },
  {
   "cell_type": "markdown",
   "metadata": {},
   "source": [
    "## Cleaned data"
   ]
  },
  {
   "cell_type": "code",
   "execution_count": 6,
   "metadata": {},
   "outputs": [],
   "source": [
    "def outlier_cleaning(data, y, features_treated = \"all\", m=2.5):\n",
    "    if features_treated == \"all\":\n",
    "        #features_treated = range(0,data.shape[1])\n",
    "        features_treated = np.delete(np.arange(data.shape[1]),[22])\n",
    "        \n",
    "        \n",
    "    data_clean = data.copy()\n",
    "    y_clean = y.copy()\n",
    "    \n",
    "    for i in features_treated:\n",
    "        feature = data_clean[:,i]\n",
    "        outliers = abs(feature - np.nanmean(feature)) > m * np.nanstd(feature)\n",
    "        data_clean = data_clean[~outliers,:]\n",
    "        y_clean = y_clean[~outliers]\n",
    "    return data_clean, y_clean"
   ]
  },
  {
   "cell_type": "code",
   "execution_count": 7,
   "metadata": {},
   "outputs": [
    {
     "name": "stderr",
     "output_type": "stream",
     "text": [
      "/home/william/anaconda3/lib/python3.6/site-packages/ipykernel_launcher.py:12: RuntimeWarning: invalid value encountered in greater\n",
      "  if sys.path[0] == '':\n"
     ]
    }
   ],
   "source": [
    "x_nan = X_tr.copy()\n",
    "x_nan[x_nan==-999]=np.nan\n",
    "y_clean = y_tr.copy()\n",
    "x_clean, y_clean = outlier_cleaning(x_nan, y_clean, \"all\")\n",
    "\n",
    "#transform nan back into -999\n",
    "x_clean[np.isnan(x_clean)]=-999\n",
    "\n",
    "X_tr_clean = preliminary_treatment_X(x_clean, imp_method=\"median\")"
   ]
  },
  {
   "cell_type": "markdown",
   "metadata": {},
   "source": [
    "## Interaction data with Feature 22"
   ]
  },
  {
   "cell_type": "code",
   "execution_count": 10,
   "metadata": {},
   "outputs": [],
   "source": [
    "X_tr_inter = X_tr_neutral.copy()\n",
    "for i in range(4):\n",
    "    for j in range(4,23):\n",
    "        X_tr_inter = interactions(X_tr_inter,i,j)"
   ]
  },
  {
   "cell_type": "markdown",
   "metadata": {},
   "source": [
    "# Testing different methods on training data"
   ]
  },
  {
   "cell_type": "code",
   "execution_count": 13,
   "metadata": {
    "scrolled": true
   },
   "outputs": [
    {
     "name": "stdout",
     "output_type": "stream",
     "text": [
      "Testing for method logistic_regression with transf. id([])... Be patient! ;)\n",
      "[<function logistic_regression at 0x7f1cf2fe3c80>, array([0., 0., 0., 0., 0., 0., 0., 0., 0., 0., 0., 0., 0., 0., 0., 0., 0.,\n",
      "       0., 0., 0., 0., 0., 0., 0., 0., 0., 0., 0., 0., 0., 0., 0., 0.])] [<function id at 0x7f1cf3043e18>, []]\n"
     ]
    },
    {
     "data": {
      "image/png": "[encoded data removed]",
      "text/plain": [
       "<Figure size 432x288 with 1 Axes>"
      ]
     },
     "metadata": {},
     "output_type": "display_data"
    }
   ],
   "source": [
    "#set the training data to be used\n",
    "tx = X_tr_log\n",
    "y_tr = y_tr\n",
    "w = np.zeros(tx.shape[1])\n",
    "# define the lambdas range\n",
    "lambdas = np.logspace(-6,-2,15)\n",
    "k_fold = 5\n",
    "\n",
    "\n",
    "transformations = [[id,[]]]\n",
    "\n",
    "methods = [[logistic_regression, [w]]]\n",
    "\n",
    "predictor, w, loss_tr, loss_te, transformation, method = multi_cross_validation(y_tr, tx, k_fold, transformations=transformations, methods=methods, seed=1, only_best=True)\n",
    "\n",
    "print(method, transformation)"
   ]
  },
  {
   "cell_type": "code",
   "execution_count": 17,
   "metadata": {},
   "outputs": [
    {
     "name": "stdout",
     "output_type": "stream",
     "text": [
      "Testing for method reg_logistic_regression with transf. id([])... Be patient! ;)\n",
      "[<function reg_logistic_regression at 0x7f1cf2fe3d08>, 1e-06] [<function id at 0x7f1cf3043e18>, []]\n"
     ]
    },
    {
     "data": {
      "image/png": "[encoded data removed]",
      "text/plain": [
       "<Figure size 432x288 with 1 Axes>"
      ]
     },
     "metadata": {},
     "output_type": "display_data"
    }
   ],
   "source": [
    "#set the training data to be used\n",
    "tx = X_tr_log\n",
    "y_tr = y_tr\n",
    "w = np.zeros(tx.shape[1])\n",
    "# define the lambdas range\n",
    "lambdas = np.logspace(-6,-2,15)\n",
    "k_fold = 5\n",
    "\n",
    "\n",
    "transformations = [[id,[]]]\n",
    "\n",
    "methods = [[reg_logistic_regression, lambdas]]\n",
    "\n",
    "predictor, w, loss_tr, loss_te, transformation, method = multi_cross_validation(y_tr, tx, k_fold, transformations=transformations, methods=methods, seed=1, only_best=True)\n",
    "\n",
    "print(method, transformation)"
   ]
  },
  {
   "cell_type": "code",
   "execution_count": 18,
   "metadata": {},
   "outputs": [
    {
     "name": "stdout",
     "output_type": "stream",
     "text": [
      "[array([ 4.40111359e-01,  2.82508369e-01,  3.13291412e-01,  1.59346588e-01,\n",
      "        7.70635572e-03, -1.08628315e-01, -1.41489095e-01,  2.19382119e-03,\n",
      "        9.40126887e-03,  4.19549396e-02,  1.19166294e-03,  1.49038510e-01,\n",
      "        1.01762846e-03, -1.12306540e-02,  2.75048419e-02,  5.33749219e-02,\n",
      "        3.53155670e-02,  1.87772277e-01, -4.69227497e-04, -4.84770201e-04,\n",
      "        4.85097211e-02, -3.86710777e-04,  1.26527522e-03,  1.88732882e-02,\n",
      "        4.42525780e-04, -3.91857695e-02,  1.11267038e-02,  2.37319812e-04,\n",
      "       -8.00279954e-05, -9.10410478e-03,  8.51977834e-04, -7.37792286e-04,\n",
      "        1.18606957e-01]), 0.0823468722417776]\n"
     ]
    }
   ],
   "source": [
    "print(least_squares_GD(y_tr, tx, w))"
   ]
  },
  {
   "cell_type": "code",
   "execution_count": 23,
   "metadata": {},
   "outputs": [
    {
     "name": "stdout",
     "output_type": "stream",
     "text": [
      "Testing for method least_squares_GD with transf. id([])... Be patient! ;)\n",
      "[array([ 4.40109078e-01,  2.82508297e-01,  3.13291055e-01,  1.59342532e-01,\n",
      "        7.72331413e-03, -1.08626239e-01, -1.41517435e-01,  2.20049617e-03,\n",
      "        9.40181575e-03,  4.19600210e-02,  1.19452839e-03,  1.49045466e-01,\n",
      "        1.01694643e-03, -1.12336867e-02,  2.75008340e-02,  5.33715910e-02,\n",
      "        3.53137386e-02,  1.87771783e-01, -4.65636201e-04, -4.84960419e-04,\n",
      "        4.85156310e-02, -3.87856521e-04,  1.26402986e-03,  1.88686665e-02,\n",
      "        4.40751952e-04, -3.91827411e-02,  1.11274597e-02,  2.36308468e-04,\n",
      "       -8.14997861e-05, -9.10450271e-03,  8.50803246e-04, -7.37671955e-04,\n",
      "        1.18604162e-01])]\n",
      "[<function least_squares_GD at 0x7f1cf2fe3950>, array([0., 0., 0., 0., 0., 0., 0., 0., 0., 0., 0., 0., 0., 0., 0., 0., 0.,\n",
      "       0., 0., 0., 0., 0., 0., 0., 0., 0., 0., 0., 0., 0., 0., 0., 0.])] [<function id at 0x7f1cf3043e18>, []]\n"
     ]
    },
    {
     "data": {
      "image/png": "[encoded data removed]",
      "text/plain": [
       "<Figure size 432x288 with 1 Axes>"
      ]
     },
     "metadata": {},
     "output_type": "display_data"
    }
   ],
   "source": [
    "#set the training data to be used\n",
    "tx = X_tr_log\n",
    "y_tr = y_tr\n",
    "w = np.zeros(tx.shape[1])\n",
    "# define the lambdas range\n",
    "lambdas = np.logspace(-6,-2,15)\n",
    "k_fold = 5\n",
    "\n",
    "\n",
    "transformations = [[id,[]]]\n",
    "\n",
    "methods = [[least_squares_GD, [w]]]\n",
    "\n",
    "predictor, w, loss_tr, loss_te, transformation, method = multi_cross_validation(y_tr, tx, k_fold, transformations=transformations, methods=methods, seed=1, only_best=True)\n",
    "\n",
    "print(method, transformation)"
   ]
  },
  {
   "cell_type": "code",
   "execution_count": 25,
   "metadata": {},
   "outputs": [
    {
     "name": "stdout",
     "output_type": "stream",
     "text": [
      "Testing for method least_squares_SGD with transf. id([])... Be patient! ;)\n",
      "[<function least_squares_SGD at 0x7f1cf2fe39d8>, array([0., 0., 0., 0., 0., 0., 0., 0., 0., 0., 0., 0., 0., 0., 0., 0., 0.,\n",
      "       0., 0., 0., 0., 0., 0., 0., 0., 0., 0., 0., 0., 0., 0., 0., 0.])] [<function id at 0x7f1cf3043e18>, []]\n"
     ]
    },
    {
     "data": {
      "image/png": "[encoded data removed]",
      "text/plain": [
       "<Figure size 432x288 with 1 Axes>"
      ]
     },
     "metadata": {},
     "output_type": "display_data"
    }
   ],
   "source": [
    "#set the training data to be used\n",
    "tx = X_tr_log\n",
    "y_tr = y_tr\n",
    "w = np.zeros(tx.shape[1])\n",
    "# define the lambdas range\n",
    "lambdas = np.logspace(-6,-2,15)\n",
    "k_fold = 5\n",
    "\n",
    "\n",
    "transformations = [[id,[]]]\n",
    "\n",
    "methods = [[least_squares_SGD, [w]]]\n",
    "\n",
    "predictor, w, loss_tr, loss_te, transformation, method = multi_cross_validation(y_tr, tx, k_fold, transformations=transformations, methods=methods, seed=1, only_best=True)\n",
    "\n",
    "print(method, transformation)"
   ]
  },
  {
   "cell_type": "code",
   "execution_count": 167,
   "metadata": {},
   "outputs": [
    {
     "data": {
      "text/plain": [
       "array([ 2.29868134e-01,  1.78483956e-01,  1.48665639e-01,  4.52804962e-02,\n",
       "       -1.95429240e-03, -9.45588689e-02, -2.98173834e-02,  1.94658692e-02,\n",
       "        2.24737702e-02,  2.64626322e-02, -1.08961440e-02,  5.36656466e-02,\n",
       "       -1.59328758e-02,  1.57878401e-02, -2.20381015e-02,  6.08154222e-02,\n",
       "        3.13376667e-02,  8.93976237e-02, -5.57737480e-04, -1.16214264e-03,\n",
       "        1.86289920e-02, -2.49198566e-04,  1.33439120e-03, -1.34090818e-02,\n",
       "        1.05328425e-03,  1.99366724e-03,  1.59580933e-02,  3.31134359e-06,\n",
       "        3.09848975e-04, -1.64534472e-02,  7.98095286e-04, -5.59986315e-04,\n",
       "        2.66533100e-02])"
      ]
     },
     "execution_count": 167,
     "metadata": {},
     "output_type": "execute_result"
    }
   ],
   "source": [
    "func, par = method\n",
    "predictor, w, loss = func(y_tr, tx, par, pred = True)\n",
    "w"
   ]
  },
  {
   "cell_type": "code",
   "execution_count": null,
   "metadata": {},
   "outputs": [],
   "source": []
  },
  {
   "cell_type": "code",
   "execution_count": null,
   "metadata": {},
   "outputs": [],
   "source": []
  },
  {
   "cell_type": "markdown",
   "metadata": {},
   "source": [
    "## Simple cross validation"
   ]
  },
  {
   "cell_type": "code",
   "execution_count": 58,
   "metadata": {},
   "outputs": [
    {
     "ename": "TypeError",
     "evalue": "cross_validation() got an unexpected keyword argument 'gamma'",
     "output_type": "error",
     "traceback": [
      "\u001b[0;31m---------------------------------------------------------------------------\u001b[0m",
      "\u001b[0;31mTypeError\u001b[0m                                 Traceback (most recent call last)",
      "\u001b[0;32m<ipython-input-58-5ff5c5e56e64>\u001b[0m in \u001b[0;36m<module>\u001b[0;34m()\u001b[0m\n\u001b[0;32m----> 1\u001b[0;31m \u001b[0mcross_validation\u001b[0m\u001b[0;34m(\u001b[0m\u001b[0my_tr\u001b[0m\u001b[0;34m,\u001b[0m \u001b[0mtx\u001b[0m\u001b[0;34m,\u001b[0m \u001b[0mk_fold\u001b[0m\u001b[0;34m,\u001b[0m \u001b[0mreg_logistic_regression\u001b[0m\u001b[0;34m,\u001b[0m \u001b[0mgamma\u001b[0m \u001b[0;34m=\u001b[0m \u001b[0;36m0.0005\u001b[0m\u001b[0;34m,\u001b[0m \u001b[0mk_indices\u001b[0m\u001b[0;34m=\u001b[0m\u001b[0;32mNone\u001b[0m\u001b[0;34m,\u001b[0m \u001b[0mseed\u001b[0m\u001b[0;34m=\u001b[0m\u001b[0;36m1\u001b[0m\u001b[0;34m)\u001b[0m\u001b[0;34m\u001b[0m\u001b[0m\n\u001b[0m",
      "\u001b[0;31mTypeError\u001b[0m: cross_validation() got an unexpected keyword argument 'gamma'"
     ]
    }
   ],
   "source": [
    "cross_validation(y_tr, tx, k_fold, reg_logistic_regression, gamma = 0.0005, k_indices=None, seed=1)"
   ]
  },
  {
   "cell_type": "markdown",
   "metadata": {},
   "source": [
    "## Interaction and Logarithmic transformation"
   ]
  },
  {
   "cell_type": "code",
   "execution_count": 70,
   "metadata": {},
   "outputs": [],
   "source": [
    "x_nan = X_tr.copy()\n",
    "x_nan[x_nan==-999]=np.nan\n",
    "\n",
    "# add log transformations\n",
    "x_nan[:,3] = log_plus(x_nan[:,3], 3)\n",
    "x_nan[:,8] = log_plus(x_nan[:,8], 1)\n",
    "x_nan[:,13] = log_plus(x_nan[:,13], 1)\n",
    "x_nan[:,16] = log_plus(x_nan[:,16], 1)\n",
    "x_nan[:,19] = log_plus(x_nan[:,19], 2)\n",
    "x_nan[:,23] = log_plus(x_nan[:,23], 2)\n",
    "x_nan[:,29] = log_plus(x_nan[:,29], 1)\n",
    "\n",
    "# transform nan back into -999\n",
    "x_nan[np.isnan(x_nan)]=-999\n",
    "\n",
    "X_tr_log = preliminary_treatment_X(x_nan, imp_method=\"median\")\n",
    "\n",
    "X_tr_loginter = X_tr_log.copy()\n",
    "for i in range(4):\n",
    "    for j in range(4,23):\n",
    "        X_tr_loginter = interactions(X_tr_loginter,i,j)"
   ]
  },
  {
   "cell_type": "code",
   "execution_count": 72,
   "metadata": {},
   "outputs": [
    {
     "name": "stdout",
     "output_type": "stream",
     "text": [
      "Testing for method ridge_regression with transf. id([])... Be patient! ;)\n",
      "[<function ridge_regression at 0x10c35ac80>, 0.0003727593720314938] [<function id at 0x10ab26840>, []]\n"
     ]
    },
    {
     "data": {
      "image/png": "[encoded data removed]",
      "text/plain": [
       "<matplotlib.figure.Figure at 0x1a69981198>"
      ]
     },
     "metadata": {},
     "output_type": "display_data"
    }
   ],
   "source": [
    "#set the training data to be used\n",
    "tx = X_tr_loginter\n",
    "y_tr = y_tr\n",
    "w = np.zeros(tx.shape[1])\n",
    "# define the lambdas range\n",
    "lambdas = np.logspace(-6,-2,15)\n",
    "k_fold = 5\n",
    "\n",
    "\n",
    "transformations = [[id,[]]]\n",
    "\n",
    "methods = [[ridge_regression, lambdas]]\n",
    "\n",
    "predictor, w, loss_tr, loss_te, transformation, method = multi_cross_validation(y_tr, tx, k_fold, transformations=transformations, methods=methods, seed=1, only_best=True)\n",
    "\n",
    "print(method, transformation)"
   ]
  },
  {
   "cell_type": "code",
   "execution_count": 73,
   "metadata": {},
   "outputs": [
    {
     "data": {
      "text/plain": [
       "0.231684"
      ]
     },
     "execution_count": 73,
     "metadata": {},
     "output_type": "execute_result"
    }
   ],
   "source": [
    "func, par = method\n",
    "predictor, w, loss = func(y_tr, tx, par, pred = True)\n",
    "loss"
   ]
  },
  {
   "cell_type": "markdown",
   "metadata": {},
   "source": [
    "## Feature selection"
   ]
  },
  {
   "cell_type": "markdown",
   "metadata": {},
   "source": [
    "### All lasso out "
   ]
  },
  {
   "cell_type": "code",
   "execution_count": 168,
   "metadata": {},
   "outputs": [],
   "source": [
    "x_nan = X_tr.copy()\n",
    "x_nan[x_nan==-999]=np.nan\n",
    "\n",
    "# add log transformations\n",
    "x_nan[:,3] = log_plus(x_nan[:,3], 3)\n",
    "x_nan[:,8] = log_plus(x_nan[:,8], 1)\n",
    "x_nan[:,13] = log_plus(x_nan[:,13], 1)\n",
    "x_nan[:,16] = log_plus(x_nan[:,16], 1)\n",
    "x_nan[:,19] = log_plus(x_nan[:,19], 2)\n",
    "x_nan[:,23] = log_plus(x_nan[:,23], 2)\n",
    "x_nan[:,29] = log_plus(x_nan[:,29], 1)\n",
    "\n",
    "# transform nan back into -999\n",
    "x_nan[np.isnan(x_nan)]=-999\n",
    "\n",
    "## take phi and eta and sumet out\n",
    "features = np.zeros(30,dtype=bool)\n",
    "keepers = [0,1,2,3,4,5,6,7,8,9,10,11,12,13,16,19,21,22,23,26,29]\n",
    "features[keepers] = True\n",
    "## treat it\n",
    "X_treated = preliminary_treatment_X(x_nan, features, imp_method=\"median\")\n",
    "\n",
    "X_tr_loginter_lassout = X_treated.copy()\n",
    "for i in range(4):\n",
    "    for j in range(4,23):\n",
    "        X_tr_loginter_lassout = interactions(X_tr_loginter_lassout,i,j)"
   ]
  },
  {
   "cell_type": "code",
   "execution_count": 169,
   "metadata": {},
   "outputs": [
    {
     "name": "stdout",
     "output_type": "stream",
     "text": [
      "Testing for method ridge_regression with transf. id([])... Be patient! ;)\n",
      "[<function ridge_regression at 0x1a55be88c8>, 0.0007196856730011514] [<function id at 0x10ab26840>, []]\n"
     ]
    },
    {
     "data": {
      "image/png": "[encoded data removed]",
      "text/plain": [
       "<matplotlib.figure.Figure at 0x1a5742b978>"
      ]
     },
     "metadata": {},
     "output_type": "display_data"
    }
   ],
   "source": [
    "#set the training data to be used\n",
    "tx = X_tr_loginter_lassout\n",
    "w = np.zeros(tx.shape[1])\n",
    "# define the lambdas range\n",
    "lambdas = np.logspace(-6,-2,15)\n",
    "k_fold = 5\n",
    "\n",
    "\n",
    "transformations = [[id,[]]]\n",
    "\n",
    "methods = [[ridge_regression, lambdas]]\n",
    "\n",
    "predictor, w, loss_tr, loss_te, transformation, method = multi_cross_validation(y_tr, tx, k_fold, transformations=transformations, methods=methods, seed=1, only_best=True)\n",
    "\n",
    "print(method, transformation)"
   ]
  },
  {
   "cell_type": "code",
   "execution_count": 170,
   "metadata": {},
   "outputs": [
    {
     "data": {
      "text/plain": [
       "0.228012"
      ]
     },
     "execution_count": 170,
     "metadata": {},
     "output_type": "execute_result"
    }
   ],
   "source": [
    "func, par = method\n",
    "predictor, w, loss = func(y_tr, tx, par, pred = True)\n",
    "loss"
   ]
  },
  {
   "cell_type": "markdown",
   "metadata": {},
   "source": [
    "### All lasso out and cleaning with changing m"
   ]
  },
  {
   "cell_type": "code",
   "execution_count": 176,
   "metadata": {},
   "outputs": [
    {
     "name": "stderr",
     "output_type": "stream",
     "text": [
      "/Users/Marie/anaconda3/lib/python3.6/site-packages/ipykernel_launcher.py:12: RuntimeWarning: invalid value encountered in greater\n",
      "  if sys.path[0] == '':\n"
     ]
    }
   ],
   "source": [
    "x_nan = X_tr.copy()\n",
    "x_nan[x_nan==-999]=np.nan\n",
    "\n",
    "# add log transformations\n",
    "x_nan[:,3] = log_plus(x_nan[:,3], 3)\n",
    "x_nan[:,8] = log_plus(x_nan[:,8], 1)\n",
    "x_nan[:,13] = log_plus(x_nan[:,13], 1)\n",
    "x_nan[:,16] = log_plus(x_nan[:,16], 1)\n",
    "x_nan[:,19] = log_plus(x_nan[:,19], 2)\n",
    "x_nan[:,23] = log_plus(x_nan[:,23], 2)\n",
    "x_nan[:,29] = log_plus(x_nan[:,29], 1)\n",
    "\n",
    "y_clean = y_tr.copy()\n",
    "x_clean, y_clean = outlier_cleaning(x_nan, y_clean, \"all\", m=2.5)\n",
    "\n",
    "#transform nan back into -999\n",
    "x_clean[np.isnan(x_clean)]=-999\n",
    "\n",
    "## take phi and eta and sumet out\n",
    "features = np.zeros(30,dtype=bool)\n",
    "keepers = [0,1,2,3,4,5,6,7,8,9,10,11,12,13,16,19,21,22,23,26,29]\n",
    "features[keepers] = True\n",
    "## treat it\n",
    "X_treated = preliminary_treatment_X(x_clean, features, imp_method=\"median\")\n",
    "\n",
    "X_tr_loginter_lassout_m = X_treated.copy()\n",
    "for i in range(4):\n",
    "    for j in range(4,23):\n",
    "        X_tr_loginter_lassout_m = interactions(X_tr_loginter_lassout_m,i,j)"
   ]
  },
  {
   "cell_type": "code",
   "execution_count": 177,
   "metadata": {},
   "outputs": [
    {
     "data": {
      "text/plain": [
       "(200537, 99)"
      ]
     },
     "execution_count": 177,
     "metadata": {},
     "output_type": "execute_result"
    }
   ],
   "source": [
    "X_tr_loginter_lassout_m.shape"
   ]
  },
  {
   "cell_type": "code",
   "execution_count": 111,
   "metadata": {},
   "outputs": [
    {
     "name": "stdout",
     "output_type": "stream",
     "text": [
      "Testing for method ridge_regression with transf. id([])... Be patient! ;)\n",
      "[<function ridge_regression at 0x1a55be88c8>, 1.9306977288832497e-07] [<function id at 0x10ab26840>, []]\n"
     ]
    },
    {
     "data": {
      "image/png": "[encoded data removed]",
      "text/plain": [
       "<matplotlib.figure.Figure at 0x1a71baeb70>"
      ]
     },
     "metadata": {},
     "output_type": "display_data"
    }
   ],
   "source": [
    "#set the training data to be used\n",
    "tx = X_tr_loginter_lassout_m\n",
    "w = np.zeros(tx.shape[1])\n",
    "# define the lambdas range\n",
    "lambdas = np.logspace(-7,-3,15)\n",
    "k_fold = 5\n",
    "\n",
    "\n",
    "transformations = [[id,[]]]\n",
    "\n",
    "methods = [[ridge_regression, lambdas]]\n",
    "\n",
    "predictor, w, loss_tr, loss_te, transformation, method = multi_cross_validation(y_clean, tx, k_fold, transformations=transformations, methods=methods, seed=1, only_best=True)\n",
    "\n",
    "print(method, transformation)"
   ]
  },
  {
   "cell_type": "code",
   "execution_count": 112,
   "metadata": {},
   "outputs": [
    {
     "data": {
      "text/plain": [
       "0.21686771019811804"
      ]
     },
     "execution_count": 112,
     "metadata": {},
     "output_type": "execute_result"
    }
   ],
   "source": [
    "func, par = method\n",
    "predictor, w, loss = func(y_clean, tx, par, pred = True)\n",
    "loss"
   ]
  },
  {
   "cell_type": "markdown",
   "metadata": {},
   "source": [
    "## Submission"
   ]
  },
  {
   "cell_type": "code",
   "execution_count": 81,
   "metadata": {},
   "outputs": [],
   "source": [
    "def predict_labels(w,tx):\n",
    "    return tx.dot(w)"
   ]
  },
  {
   "cell_type": "code",
   "execution_count": 82,
   "metadata": {},
   "outputs": [],
   "source": [
    "x_nan = X_te.copy()\n",
    "x_nan[x_nan==-999]=np.nan\n",
    "\n",
    "# add log transformations\n",
    "x_nan[:,3] = log_plus(x_nan[:,3], 3)\n",
    "x_nan[:,8] = log_plus(x_nan[:,8], 1)\n",
    "x_nan[:,13] = log_plus(x_nan[:,13], 1)\n",
    "x_nan[:,16] = log_plus(x_nan[:,16], 1)\n",
    "x_nan[:,19] = log_plus(x_nan[:,19], 2)\n",
    "x_nan[:,23] = log_plus(x_nan[:,23], 2)\n",
    "x_nan[:,29] = log_plus(x_nan[:,29], 1)\n",
    "\n",
    "# transform nan back into -999\n",
    "x_nan[np.isnan(x_nan)]=-999\n",
    "\n",
    "## take phi and eta and sumet out\n",
    "features = np.zeros(30,dtype=bool)\n",
    "keepers = [0,1,2,3,4,5,6,7,8,9,10,11,12,13,16,19,21,22,23,26,29]\n",
    "features[keepers] = True\n",
    "## treat it\n",
    "X_treated = preliminary_treatment_X(x_nan, features, imp_method=\"median\")\n",
    "\n",
    "X_te_loginter_lassout = X_treated.copy()\n",
    "for i in range(4):\n",
    "    for j in range(4,23):\n",
    "        X_te_loginter_lassout = interactions(X_te_loginter_lassout,i,j)"
   ]
  },
  {
   "cell_type": "code",
   "execution_count": 119,
   "metadata": {},
   "outputs": [],
   "source": [
    "tx = X_te_loginter_lassout\n",
    "y_pred = predict_labels(w,tx)\n",
    "y_predict = categories(y_pred)"
   ]
  },
  {
   "cell_type": "code",
   "execution_count": 120,
   "metadata": {},
   "outputs": [
    {
     "data": {
      "text/plain": [
       "array([-1., -1., -1., ...,  1., -1., -1.])"
      ]
     },
     "execution_count": 120,
     "metadata": {},
     "output_type": "execute_result"
    }
   ],
   "source": [
    "y_predict[y_predict==0]=-1\n",
    "y_predict"
   ]
  },
  {
   "cell_type": "code",
   "execution_count": 121,
   "metadata": {},
   "outputs": [],
   "source": [
    "create_csv_submission(ids_te, y_predict, \"../Data/test_Marie_283.csv\")"
   ]
  },
  {
   "cell_type": "markdown",
   "metadata": {},
   "source": [
    "## Avec polynomial, lasso out, log and interactions with the linear term"
   ]
  },
  {
   "cell_type": "code",
   "execution_count": 182,
   "metadata": {},
   "outputs": [],
   "source": [
    "x_nan = X_tr.copy()\n",
    "x_nan[x_nan==-999]=np.nan\n",
    "\n",
    "# add log transformations\n",
    "x_nan[:,3] = log_plus(x_nan[:,3], 3)\n",
    "x_nan[:,8] = log_plus(x_nan[:,8], 1)\n",
    "x_nan[:,13] = log_plus(x_nan[:,13], 1)\n",
    "x_nan[:,16] = log_plus(x_nan[:,16], 1)\n",
    "x_nan[:,19] = log_plus(x_nan[:,19], 2)\n",
    "x_nan[:,23] = log_plus(x_nan[:,23], 2)\n",
    "x_nan[:,29] = log_plus(x_nan[:,29], 1)\n",
    "\n",
    "# transform nan back into -999\n",
    "x_nan[np.isnan(x_nan)]=-999\n",
    "\n",
    "## take phi and eta and sumet out\n",
    "features = np.zeros(30,dtype=bool)\n",
    "keepers = [0,1,2,3,4,5,6,7,8,9,10,11,12,13,16,19,21,22,23,26,29]\n",
    "features[keepers] = True\n",
    "## treat it\n",
    "X_treated = preliminary_treatment_X(x_nan, features, imp_method=\"median\")\n",
    "\n",
    "X_poly = build_poly(X_treated, 1)\n",
    "\n",
    "X_tr_loginter_lassout_poly = X_poly.copy()\n",
    "for i in range(4):\n",
    "    for j in range(4, X_poly.shape[1], 1):\n",
    "        X_tr_loginter_lassout_poly = interactions(X_tr_loginter_lassout_poly,i,j)"
   ]
  },
  {
   "cell_type": "code",
   "execution_count": 183,
   "metadata": {},
   "outputs": [
    {
     "data": {
      "text/plain": [
       "(250000, 104)"
      ]
     },
     "execution_count": 183,
     "metadata": {},
     "output_type": "execute_result"
    }
   ],
   "source": [
    "X_tr_loginter_lassout_poly.shape"
   ]
  },
  {
   "cell_type": "code",
   "execution_count": 157,
   "metadata": {},
   "outputs": [
    {
     "name": "stdout",
     "output_type": "stream",
     "text": [
      "Testing for method ridge_regression with transf. id([])... Be patient! ;)\n",
      "[<function ridge_regression at 0x1a55be88c8>, 1.1787686347935867e-07] [<function id at 0x10ab26840>, []]\n"
     ]
    },
    {
     "data": {
      "image/png": "[encoded data removed]",
      "text/plain": [
       "<matplotlib.figure.Figure at 0x1a740f2a20>"
      ]
     },
     "metadata": {},
     "output_type": "display_data"
    }
   ],
   "source": [
    "#set the training data to be used\n",
    "tx = X_tr_loginter_lassout_poly\n",
    "w = np.zeros(tx.shape[1])\n",
    "# define the lambdas range\n",
    "lambdas = np.logspace(-8,-5,15)\n",
    "k_fold = 5\n",
    "\n",
    "\n",
    "transformations = [[id,[]]]\n",
    "\n",
    "methods = [[ridge_regression, lambdas]]\n",
    "\n",
    "predictor, w, loss_tr, loss_te, transformation, method = multi_cross_validation(y_tr, tx, k_fold, transformations=transformations, methods=methods, seed=1, only_best=True)\n",
    "\n",
    "print(method, transformation)"
   ]
  },
  {
   "cell_type": "code",
   "execution_count": 158,
   "metadata": {},
   "outputs": [
    {
     "data": {
      "text/plain": [
       "0.206396"
      ]
     },
     "execution_count": 158,
     "metadata": {},
     "output_type": "execute_result"
    }
   ],
   "source": [
    "func, par = method\n",
    "predictor, w, loss = func(y_tr, tx, par, pred = True)\n",
    "loss"
   ]
  },
  {
   "cell_type": "markdown",
   "metadata": {},
   "source": [
    "## Submission"
   ]
  },
  {
   "cell_type": "code",
   "execution_count": 154,
   "metadata": {},
   "outputs": [],
   "source": [
    "x_nan = X_te.copy()\n",
    "x_nan[x_nan==-999]=np.nan\n",
    "\n",
    "# add log transformations\n",
    "x_nan[:,3] = log_plus(x_nan[:,3], 3)\n",
    "x_nan[:,8] = log_plus(x_nan[:,8], 1)\n",
    "x_nan[:,13] = log_plus(x_nan[:,13], 1)\n",
    "x_nan[:,16] = log_plus(x_nan[:,16], 1)\n",
    "x_nan[:,19] = log_plus(x_nan[:,19], 2)\n",
    "x_nan[:,23] = log_plus(x_nan[:,23], 2)\n",
    "x_nan[:,29] = log_plus(x_nan[:,29], 1)\n",
    "\n",
    "# transform nan back into -999\n",
    "x_nan[np.isnan(x_nan)]=-999\n",
    "\n",
    "## take phi and eta and sumet out\n",
    "features = np.zeros(30,dtype=bool)\n",
    "keepers = [0,1,2,3,4,5,6,7,8,9,10,11,12,13,16,19,22,23,26,29]\n",
    "features[keepers] = True\n",
    "## treat it\n",
    "X_treated = preliminary_treatment_X(x_nan, features, imp_method=\"median\")\n",
    "\n",
    "X_poly = build_poly(X_treated, 4)\n",
    "\n",
    "X_te_loginter_lassout_poly = X_poly.copy()\n",
    "for i in range(4):\n",
    "    for j in range(4,X_poly.shape[1],4):\n",
    "        X_te_loginter_lassout_poly = interactions(X_te_loginter_lassout_poly,i,j)"
   ]
  },
  {
   "cell_type": "code",
   "execution_count": 159,
   "metadata": {},
   "outputs": [],
   "source": [
    "tx = X_te_loginter_lassout_poly\n",
    "y_pred = predict_labels(w,tx)\n",
    "y_predict = categories(y_pred)"
   ]
  },
  {
   "cell_type": "code",
   "execution_count": 160,
   "metadata": {},
   "outputs": [
    {
     "data": {
      "text/plain": [
       "array([-1., -1., -1., ...,  1., -1., -1.])"
      ]
     },
     "execution_count": 160,
     "metadata": {},
     "output_type": "execute_result"
    }
   ],
   "source": [
    "y_predict[y_predict==0]=-1\n",
    "y_predict"
   ]
  },
  {
   "cell_type": "code",
   "execution_count": 161,
   "metadata": {},
   "outputs": [],
   "source": [
    "create_csv_submission(ids_te, y_predict, \"../Data/test_Marie_285.csv\")"
   ]
  },
  {
   "cell_type": "code",
   "execution_count": null,
   "metadata": {},
   "outputs": [],
   "source": []
  }
 ],
 "metadata": {
  "kernelspec": {
   "display_name": "Python 3",
   "language": "python",
   "name": "python3"
  },
  "language_info": {
   "codemirror_mode": {
    "name": "ipython",
    "version": 3
   },
   "file_extension": ".py",
   "mimetype": "text/x-python",
   "name": "python",
   "nbconvert_exporter": "python",
   "pygments_lexer": "ipython3",
   "version": "3.6.5"
  }
 },
 "nbformat": 4,
 "nbformat_minor": 2
}
