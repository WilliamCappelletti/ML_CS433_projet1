{
 "cells": [
  {
   "cell_type": "markdown",
   "metadata": {},
   "source": [
    "# ATTENTION: \n",
    "\n",
    "Remember to pull before any change and to push often! (Problem on merging)"
   ]
  },
  {
   "cell_type": "markdown",
   "metadata": {},
   "source": [
    "# Test for project1, sandbox"
   ]
  },
  {
   "cell_type": "markdown",
   "metadata": {},
   "source": [
    "pour faire plaisir à William, il est demandé de mettre des titres. Faites attention car il a tendance à devenir grumpy si on ne le fait pas "
   ]
  },
  {
   "cell_type": "code",
   "execution_count": 1,
   "metadata": {},
   "outputs": [],
   "source": [
    "%matplotlib inline\n",
    "import numpy as np\n",
    "import matplotlib.pyplot as plt\n",
    "import seaborn as sns\n",
    "%load_ext autoreload\n",
    "%autoreload 2\n",
    "\n",
    "sns.set()"
   ]
  },
  {
   "cell_type": "markdown",
   "metadata": {},
   "source": [
    "Our library"
   ]
  },
  {
   "cell_type": "code",
   "execution_count": 2,
   "metadata": {},
   "outputs": [],
   "source": [
    "from proj1_helpers import *\n",
    "from data_utility import *\n",
    "from Regressions import *"
   ]
  },
  {
   "cell_type": "markdown",
   "metadata": {},
   "source": [
    "### Exploratory Data loading"
   ]
  },
  {
   "cell_type": "code",
   "execution_count": 3,
   "metadata": {},
   "outputs": [],
   "source": [
    "y, X, ids = load_csv_data('../Data/train.csv')\n"
   ]
  },
  {
   "cell_type": "code",
   "execution_count": 4,
   "metadata": {},
   "outputs": [
    {
     "name": "stdout",
     "output_type": "stream",
     "text": [
      "Y shape :  (250000,)\n",
      "X shape :  (250000, 30)\n"
     ]
    }
   ],
   "source": [
    "print('Y shape : ', y.shape)\n",
    "print('X shape : ', X.shape)"
   ]
  },
  {
   "cell_type": "markdown",
   "metadata": {},
   "source": [
    "### Removal of -999 datas"
   ]
  },
  {
   "cell_type": "code",
   "execution_count": null,
   "metadata": {},
   "outputs": [],
   "source": [
    "keepers = np.ones(X.shape[1], dtype=bool)\n",
    "keepers[[4,5,6,12,26,27,28]] = 0\n",
    "\n",
    "x = X[:,keepers]\n",
    "\n",
    "print(x.shape)"
   ]
  },
  {
   "cell_type": "markdown",
   "metadata": {},
   "source": [
    "## which Definition"
   ]
  },
  {
   "cell_type": "code",
   "execution_count": null,
   "metadata": {},
   "outputs": [],
   "source": [
    "which = [6,17,22] #Change according to desired features in tests"
   ]
  },
  {
   "cell_type": "markdown",
   "metadata": {},
   "source": [
    "### Scatter plots"
   ]
  },
  {
   "cell_type": "code",
   "execution_count": null,
   "metadata": {},
   "outputs": [],
   "source": [
    "scatter(x,which, other_f= True, against=x[:,6])"
   ]
  },
  {
   "cell_type": "markdown",
   "metadata": {},
   "source": [
    "### Histograms"
   ]
  },
  {
   "cell_type": "code",
   "execution_count": null,
   "metadata": {},
   "outputs": [],
   "source": [
    "def hist_plot(data,i):\n",
    "    # An \"interface\" to matplotlib.axes.Axes.hist() method\n",
    "    n, bins, patches = plt.hist(x=data, bins=50, color='#0504aa',\n",
    "                                alpha=0.7, rwidth=0.85)\n",
    "    plt.grid(axis='y', alpha=0.75)\n",
    "    plt.xlabel('Value')\n",
    "    plt.ylabel('Frequency')\n",
    "    plt.title('{i}th feature'.format(i=i))\n",
    "    maxfreq = n.max()\n",
    "    # Set a clean upper y-axis limit.\n",
    "    plt.ylim(top=np.ceil(maxfreq / 10) * 10 if maxfreq % 10 else maxfreq + 10)\n",
    "    plt.show()"
   ]
  },
  {
   "cell_type": "code",
   "execution_count": null,
   "metadata": {},
   "outputs": [],
   "source": [
    "for i in which:\n",
    "    feature = x[:,i]\n",
    "    feature = feature[feature>-999]\n",
    "#     hist_plot(feature,i)\n",
    "    sns.distplot(feature,bins=30,kde=True)\n",
    "    plt.title('{i}th feature'.format(i=i))\n",
    "    plt.show()"
   ]
  },
  {
   "cell_type": "markdown",
   "metadata": {},
   "source": [
    "### Single feature-response plots"
   ]
  },
  {
   "cell_type": "code",
   "execution_count": null,
   "metadata": {},
   "outputs": [],
   "source": [
    "for i in which:\n",
    "    print(\"Scatter plot for {i}th feature :\".format(i=i))\n",
    "\n",
    "    t = x[:,i]\n",
    "    plt.scatter(t,y, alpha = 0.5)\n",
    "    mean_x1 = np.mean(t[y == 1])\n",
    "    mean_x0 = np.mean(t[y == -1])\n",
    "    plt.plot(mean_x0,-1,\"or\")\n",
    "    plt.plot(mean_x1,1,\"or\")\n",
    "    plt.show()"
   ]
  },
  {
   "cell_type": "markdown",
   "metadata": {},
   "source": [
    "### Feature boxplots\n",
    "Visually check influence on response"
   ]
  },
  {
   "cell_type": "code",
   "execution_count": null,
   "metadata": {},
   "outputs": [],
   "source": [
    "for i in which:\n",
    "    feature = x[:,i]\n",
    "    print(\"Boxplot for {i}th feature :\".format(i=i))\n",
    "    plt.xlim(left = np.min(feature[feature>-999])-0.5)\n",
    "    plt.xlim(right = np.max(feature[feature>-999])+.5)\n",
    "    #the mean is dispayed as a triangle\n",
    "    yes_feat = feature[y==1]\n",
    "    no_feat = feature[y==-1]\n",
    "    plt.boxplot(yes_feat[yes_feat>-999],vert = False, positions=[0],showmeans=True)\n",
    "    plt.boxplot(no_feat[no_feat>-999], vert = False, positions=[-.25], showmeans=True)\n",
    "    plt.show()\n",
    "    \n"
   ]
  },
  {
   "cell_type": "markdown",
   "metadata": {},
   "source": [
    "### Features with \"too many\" -999\n",
    "\n",
    "Checked to eventually remove them."
   ]
  },
  {
   "cell_type": "code",
   "execution_count": null,
   "metadata": {},
   "outputs": [],
   "source": [
    "for i in range(x.shape[1]):\n",
    "    percentage = len(np.where(x[:,i] < -500)[0])/len(x[:,i])*100\n",
    "    if percentage > 60:\n",
    "        print(\"feature {i}: {percentage} of Na\".format(i = i, percentage = percentage))"
   ]
  },
  {
   "cell_type": "markdown",
   "metadata": {},
   "source": [
    "# Regression\n",
    "\n",
    "Abandoned GD and SGD for least squares (pointless to lose time having explicit form solution)"
   ]
  },
  {
   "cell_type": "markdown",
   "metadata": {},
   "source": [
    "### Data loading"
   ]
  },
  {
   "cell_type": "code",
   "execution_count": 3,
   "metadata": {},
   "outputs": [],
   "source": [
    "y_tr, X_tr, ids_tr = load_csv_data('../Data/train.csv')\n",
    "y_te, X_te, ids_te = load_csv_data('../Data/test.csv')"
   ]
  },
  {
   "cell_type": "markdown",
   "metadata": {},
   "source": [
    "preliminary Data treatment"
   ]
  },
  {
   "cell_type": "code",
   "execution_count": 4,
   "metadata": {},
   "outputs": [
    {
     "name": "stdout",
     "output_type": "stream",
     "text": [
      "Removed features: \n",
      " (array([ 4,  5,  6, 12, 26, 27, 28]),)\n"
     ]
    }
   ],
   "source": [
    "n,p = X_tr.shape\n",
    "keepers = np.ones(p, dtype=bool)\n",
    "\n",
    "for i in range(p):\n",
    "    percentage = len(np.where(X_tr[:,i] ==-999)[0])/n*100\n",
    "    if percentage > 70:\n",
    "        keepers[i] = 0\n",
    "\n",
    "print(\"Removed features: \\n\",np.where(keepers == 0))\n",
    "x_tr = X_tr[:,keepers]\n",
    "x_te = X_te[:,keepers]\n",
    "\n",
    "n,p = x_tr.shape"
   ]
  },
  {
   "cell_type": "code",
   "execution_count": 34,
   "metadata": {},
   "outputs": [
    {
     "name": "stdout",
     "output_type": "stream",
     "text": [
      "(23,)\n"
     ]
    }
   ],
   "source": [
    "print(np.mean(x_tr, axis=0).shape)"
   ]
  },
  {
   "cell_type": "code",
   "execution_count": 39,
   "metadata": {},
   "outputs": [
    {
     "data": {
      "image/png": "[encoded data removed]",
      "text/plain": [
       "<Figure size 432x288 with 1 Axes>"
      ]
     },
     "metadata": {},
     "output_type": "display_data"
    }
   ],
   "source": [
    "tx = np.c_[np.ones(n),x_tr]\n",
    "n,p = tx.shape\n",
    "w = np.zeros(p)\n",
    "lambdas = np.logspace(-6, -2, 30)\n",
    "k_fold = 5\n",
    "\n",
    "# print(ridge_regression(y_tr, x_tr, 1))\n",
    "w_cv, rmse_tr, rmse_te = cross_validation(y_tr, tx, k_fold, degree=2, lambdas=lambdas)\n",
    "\n"
   ]
  }
 ],
 "metadata": {
  "kernelspec": {
   "display_name": "Python 3",
   "language": "python",
   "name": "python3"
  },
  "language_info": {
   "codemirror_mode": {
    "name": "ipython",
    "version": 3
   },
   "file_extension": ".py",
   "mimetype": "text/x-python",
   "name": "python",
   "nbconvert_exporter": "python",
   "pygments_lexer": "ipython3",
   "version": "3.6.5"
  }
 },
 "nbformat": 4,
 "nbformat_minor": 2
}
