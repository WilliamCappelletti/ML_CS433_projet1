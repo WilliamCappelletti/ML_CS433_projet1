{
 "cells": [
  {
   "cell_type": "code",
   "execution_count": 2,
   "metadata": {},
   "outputs": [],
   "source": [
    "%matplotlib inline\n",
    "import numpy as np\n",
    "import matplotlib.pyplot as plt\n",
    "import seaborn as sns\n",
    "%load_ext autoreload\n",
    "%autoreload 2\n",
    "\n",
    "sns.set()"
   ]
  },
  {
   "cell_type": "code",
   "execution_count": 11,
   "metadata": {},
   "outputs": [],
   "source": [
    "from Regressions import *"
   ]
  },
  {
   "cell_type": "code",
   "execution_count": 4,
   "metadata": {},
   "outputs": [],
   "source": [
    "y_tr, X_tr, ids_tr = load_csv_data('../Data/train.csv')\n",
    "y_te, X_te, ids_te = load_csv_data('../Data/test.csv')"
   ]
  },
  {
   "cell_type": "code",
   "execution_count": 5,
   "metadata": {},
   "outputs": [],
   "source": [
    "y_tr[y_tr==-1] = 0\n",
    "y_te[y_te==-1] = 0"
   ]
  },
  {
   "cell_type": "markdown",
   "metadata": {},
   "source": [
    "# Training data preparation"
   ]
  },
  {
   "cell_type": "markdown",
   "metadata": {},
   "source": [
    "## Neutral data"
   ]
  },
  {
   "cell_type": "code",
   "execution_count": 43,
   "metadata": {},
   "outputs": [],
   "source": [
    "X_tr_neutral = preliminary_treatment_X(X_tr, imp_method=\"mean\")\n"
   ]
  },
  {
   "cell_type": "markdown",
   "metadata": {},
   "source": [
    "## Logarithmic data"
   ]
  },
  {
   "cell_type": "code",
   "execution_count": 52,
   "metadata": {},
   "outputs": [],
   "source": [
    "x_nan = X_tr.copy()\n",
    "x_nan[x_nan==-999]=np.nan\n",
    "\n",
    "# add log transformations\n",
    "x_nan[:,3] = log_plus(x_nan[:,3], 3)\n",
    "x_nan[:,8] = log_plus(x_nan[:,8], 1)\n",
    "x_nan[:,13] = log_plus(x_nan[:,13], 1)\n",
    "x_nan[:,16] = log_plus(x_nan[:,16], 1)\n",
    "x_nan[:,19] = log_plus(x_nan[:,19], 2)\n",
    "x_nan[:,23] = log_plus(x_nan[:,23], 2)\n",
    "x_nan[:,29] = log_plus(x_nan[:,29], 1)\n",
    "\n",
    "# transform nan back into -999\n",
    "x_nan[np.isnan(x_nan)]=-999\n",
    "\n",
    "X_tr_log = preliminary_treatment_X(x_nan, imp_method=\"median\")"
   ]
  },
  {
   "cell_type": "markdown",
   "metadata": {},
   "source": [
    "## Cleaned data"
   ]
  },
  {
   "cell_type": "code",
   "execution_count": 8,
   "metadata": {},
   "outputs": [],
   "source": [
    "def outlier_cleaning(data, y, features_treated = \"all\", m=3):\n",
    "    if features_treated == \"all\":\n",
    "        #features_treated = range(0,data.shape[1])\n",
    "        features_treated = np.delete(np.arange(data.shape[1]),[22])\n",
    "        \n",
    "        \n",
    "    data_clean = data.copy()\n",
    "    y_clean = y.copy()\n",
    "    \n",
    "    for i in features_treated:\n",
    "        feature = data_clean[:,i]\n",
    "        outliers = abs(feature - np.nanmean(feature)) > m * np.nanstd(feature)\n",
    "        data_clean = data_clean[~outliers,:]\n",
    "        y_clean = y_clean[~outliers]\n",
    "    return data_clean, y_clean"
   ]
  },
  {
   "cell_type": "code",
   "execution_count": 9,
   "metadata": {},
   "outputs": [
    {
     "name": "stderr",
     "output_type": "stream",
     "text": [
      "/Users/Marie/anaconda3/lib/python3.6/site-packages/ipykernel_launcher.py:12: RuntimeWarning: invalid value encountered in greater\n",
      "  if sys.path[0] == '':\n"
     ]
    }
   ],
   "source": [
    "x_nan = X_tr.copy()\n",
    "x_nan[x_nan==-999]=np.nan\n",
    "y_clean = y_tr.copy()\n",
    "x_clean, y_clean = outlier_cleaning(x_nan, y_clean, \"all\")\n",
    "\n",
    "#transform nan back into -999\n",
    "x_clean[np.isnan(x_clean)]=-999\n",
    "\n",
    "X_tr_clean = preliminary_treatment_X(x_clean, imp_method=\"median\")"
   ]
  },
  {
   "cell_type": "markdown",
   "metadata": {},
   "source": [
    "## Interaction data with Feature 22"
   ]
  },
  {
   "cell_type": "code",
   "execution_count": 48,
   "metadata": {},
   "outputs": [],
   "source": [
    "X_tr_inter = X_tr_neutral.copy()\n",
    "for i in range(4):\n",
    "    for j in range(4,23):\n",
    "        X_tr_inter = interactions(X_tr_inter,i,j)"
   ]
  },
  {
   "cell_type": "markdown",
   "metadata": {},
   "source": [
    "# Testing different methods on training data"
   ]
  },
  {
   "cell_type": "code",
   "execution_count": 56,
   "metadata": {},
   "outputs": [
    {
     "name": "stdout",
     "output_type": "stream",
     "text": [
      "Testing for method reg_logistic_regression with transf. id([])... Be patient! ;)\n",
      "[<function reg_logistic_regression at 0x10c35aea0>, 1e-06] [<function id at 0x10ab26840>, []]\n"
     ]
    },
    {
     "data": {
      "image/png": "[encoded data removed]",
      "text/plain": [
       "<matplotlib.figure.Figure at 0x1a6e915dd8>"
      ]
     },
     "metadata": {},
     "output_type": "display_data"
    }
   ],
   "source": [
    "#set the training data to be used\n",
    "tx = X_tr_log\n",
    "y_tr = y_tr\n",
    "w = np.zeros(tx.shape[1])\n",
    "# define the lambdas range\n",
    "lambdas = np.logspace(-6,-5,15)\n",
    "k_fold = 5\n",
    "\n",
    "\n",
    "transformations = [[id,[]]]\n",
    "\n",
    "methods = [[reg_logistic_regression, lambdas]]\n",
    "\n",
    "predictor, w, loss_tr, loss_te, transformation, method = multi_cross_validation(y_tr, tx, k_fold, transformations=transformations, methods=methods, seed=1, only_best=True)\n",
    "\n",
    "print(method, transformation)"
   ]
  },
  {
   "cell_type": "code",
   "execution_count": 54,
   "metadata": {},
   "outputs": [
    {
     "data": {
      "text/plain": [
       "0.237356"
      ]
     },
     "execution_count": 54,
     "metadata": {},
     "output_type": "execute_result"
    }
   ],
   "source": [
    "func, par = method\n",
    "predictor, w, loss = func(y_tr, tx, par, pred = True)\n",
    "loss"
   ]
  },
  {
   "cell_type": "markdown",
   "metadata": {},
   "source": [
    "## Single validation"
   ]
  },
  {
   "cell_type": "code",
   "execution_count": 58,
   "metadata": {},
   "outputs": [
    {
     "ename": "TypeError",
     "evalue": "cross_validation() got an unexpected keyword argument 'gamma'",
     "output_type": "error",
     "traceback": [
      "\u001b[0;31m---------------------------------------------------------------------------\u001b[0m",
      "\u001b[0;31mTypeError\u001b[0m                                 Traceback (most recent call last)",
      "\u001b[0;32m<ipython-input-58-5ff5c5e56e64>\u001b[0m in \u001b[0;36m<module>\u001b[0;34m()\u001b[0m\n\u001b[0;32m----> 1\u001b[0;31m \u001b[0mcross_validation\u001b[0m\u001b[0;34m(\u001b[0m\u001b[0my_tr\u001b[0m\u001b[0;34m,\u001b[0m \u001b[0mtx\u001b[0m\u001b[0;34m,\u001b[0m \u001b[0mk_fold\u001b[0m\u001b[0;34m,\u001b[0m \u001b[0mreg_logistic_regression\u001b[0m\u001b[0;34m,\u001b[0m \u001b[0mgamma\u001b[0m \u001b[0;34m=\u001b[0m \u001b[0;36m0.0005\u001b[0m\u001b[0;34m,\u001b[0m \u001b[0mk_indices\u001b[0m\u001b[0;34m=\u001b[0m\u001b[0;32mNone\u001b[0m\u001b[0;34m,\u001b[0m \u001b[0mseed\u001b[0m\u001b[0;34m=\u001b[0m\u001b[0;36m1\u001b[0m\u001b[0;34m)\u001b[0m\u001b[0;34m\u001b[0m\u001b[0m\n\u001b[0m",
      "\u001b[0;31mTypeError\u001b[0m: cross_validation() got an unexpected keyword argument 'gamma'"
     ]
    }
   ],
   "source": [
    "cross_validation(y_tr, tx, k_fold, reg_logistic_regression, gamma = 0.0005, k_indices=None, seed=1)"
   ]
  },
  {
   "cell_type": "code",
   "execution_count": null,
   "metadata": {},
   "outputs": [],
   "source": []
  }
 ],
 "metadata": {
  "kernelspec": {
   "display_name": "Python 3",
   "language": "python",
   "name": "python3"
  },
  "language_info": {
   "codemirror_mode": {
    "name": "ipython",
    "version": 3
   },
   "file_extension": ".py",
   "mimetype": "text/x-python",
   "name": "python",
   "nbconvert_exporter": "python",
   "pygments_lexer": "ipython3",
   "version": "3.6.4"
  }
 },
 "nbformat": 4,
 "nbformat_minor": 2
}
