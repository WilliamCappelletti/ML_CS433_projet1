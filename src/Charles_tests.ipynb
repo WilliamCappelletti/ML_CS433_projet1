{
 "cells": [
  {
   "cell_type": "markdown",
   "metadata": {},
   "source": [
    "# ATTENTION: \n",
    "\n",
    "Remember to pull before any change and to push often! (Problem on merging)"
   ]
  },
  {
   "cell_type": "markdown",
   "metadata": {},
   "source": [
    "# Test for project1, sandbox"
   ]
  },
  {
   "cell_type": "code",
   "execution_count": 59,
   "metadata": {},
   "outputs": [
    {
     "name": "stdout",
     "output_type": "stream",
     "text": [
      "The autoreload extension is already loaded. To reload it, use:\n",
      "  %reload_ext autoreload\n"
     ]
    }
   ],
   "source": [
    "%matplotlib inline\n",
    "from Regressions import *\n",
    "from proj1_helpers import *\n",
    "import numpy as np\n",
    "import matplotlib.pyplot as plt\n",
    "import seaborn as sns\n",
    "%load_ext autoreload\n",
    "%autoreload 2\n",
    "\n",
    "sns.set()"
   ]
  },
  {
   "cell_type": "markdown",
   "metadata": {},
   "source": [
    "### Train Data loading"
   ]
  },
  {
   "cell_type": "code",
   "execution_count": 2,
   "metadata": {},
   "outputs": [],
   "source": [
    "y, x_all, ids = load_csv_data('../Data/train.csv')\n",
    "y[y==-1] = 0"
   ]
  },
  {
   "cell_type": "code",
   "execution_count": 3,
   "metadata": {},
   "outputs": [
    {
     "name": "stdout",
     "output_type": "stream",
     "text": [
      "Y shape :  (250000,)\n",
      "X shape :  (250000, 30)\n"
     ]
    }
   ],
   "source": [
    "y_all = y\n",
    "print('Y shape : ', y.shape)\n",
    "print('X shape : ', x_all.shape)"
   ]
  },
  {
   "cell_type": "code",
   "execution_count": 4,
   "metadata": {},
   "outputs": [],
   "source": [
    "x = np.delete(x_all,[4,5,6,12,26,27,28],1)"
   ]
  },
  {
   "cell_type": "markdown",
   "metadata": {},
   "source": [
    " which Definition"
   ]
  },
  {
   "cell_type": "code",
   "execution_count": 5,
   "metadata": {},
   "outputs": [],
   "source": [
    "which = range(28,29) #Change according to desired features in tests"
   ]
  },
  {
   "cell_type": "markdown",
   "metadata": {},
   "source": [
    "### Scatter plots"
   ]
  },
  {
   "cell_type": "code",
   "execution_count": 6,
   "metadata": {
    "scrolled": false
   },
   "outputs": [
    {
     "ename": "IndexError",
     "evalue": "index 28 is out of bounds for axis 1 with size 23",
     "output_type": "error",
     "traceback": [
      "\u001b[0;31m---------------------------------------------------------------------------\u001b[0m",
      "\u001b[0;31mIndexError\u001b[0m                                Traceback (most recent call last)",
      "\u001b[0;32m<ipython-input-6-da0a1021ef67>\u001b[0m in \u001b[0;36m<module>\u001b[0;34m()\u001b[0m\n\u001b[1;32m      1\u001b[0m \u001b[0;32mfor\u001b[0m \u001b[0mi\u001b[0m \u001b[0;32min\u001b[0m \u001b[0mwhich\u001b[0m\u001b[0;34m:\u001b[0m\u001b[0;34m\u001b[0m\u001b[0m\n\u001b[0;32m----> 2\u001b[0;31m     \u001b[0mfeature\u001b[0m \u001b[0;34m=\u001b[0m \u001b[0mx\u001b[0m\u001b[0;34m[\u001b[0m\u001b[0;34m:\u001b[0m\u001b[0;34m,\u001b[0m\u001b[0mi\u001b[0m\u001b[0;34m]\u001b[0m\u001b[0;34m\u001b[0m\u001b[0m\n\u001b[0m\u001b[1;32m      3\u001b[0m     \u001b[0;32mif\u001b[0m \u001b[0mlen\u001b[0m\u001b[0;34m(\u001b[0m\u001b[0mfeature\u001b[0m\u001b[0;34m[\u001b[0m\u001b[0mfeature\u001b[0m\u001b[0;34m==\u001b[0m\u001b[0;34m-\u001b[0m\u001b[0;36m999\u001b[0m\u001b[0;34m]\u001b[0m\u001b[0;34m)\u001b[0m \u001b[0;34m>\u001b[0m \u001b[0;36m0\u001b[0m\u001b[0;34m:\u001b[0m \u001b[0;31m#If there is some misplaced value we do not include them in the scatterplot\u001b[0m\u001b[0;34m\u001b[0m\u001b[0m\n\u001b[1;32m      4\u001b[0m         \u001b[0mprint\u001b[0m\u001b[0;34m(\u001b[0m\u001b[0;34m\"ATTENTION: missing values ({h}) in {i}th feature removed!\"\u001b[0m\u001b[0;34m.\u001b[0m\u001b[0mformat\u001b[0m\u001b[0;34m(\u001b[0m\u001b[0mi\u001b[0m\u001b[0;34m=\u001b[0m\u001b[0mi\u001b[0m\u001b[0;34m,\u001b[0m \u001b[0mh\u001b[0m \u001b[0;34m=\u001b[0m \u001b[0mlen\u001b[0m\u001b[0;34m(\u001b[0m\u001b[0mfeature\u001b[0m\u001b[0;34m[\u001b[0m\u001b[0mfeature\u001b[0m\u001b[0;34m==\u001b[0m\u001b[0;34m-\u001b[0m\u001b[0;36m999\u001b[0m\u001b[0;34m]\u001b[0m\u001b[0;34m)\u001b[0m\u001b[0;34m)\u001b[0m\u001b[0;34m)\u001b[0m\u001b[0;34m\u001b[0m\u001b[0m\n\u001b[1;32m      5\u001b[0m     \u001b[0mfeature\u001b[0m \u001b[0;34m=\u001b[0m \u001b[0mfeature\u001b[0m\u001b[0;34m[\u001b[0m\u001b[0mfeature\u001b[0m\u001b[0;34m>\u001b[0m\u001b[0;34m-\u001b[0m\u001b[0;36m999\u001b[0m\u001b[0;34m]\u001b[0m\u001b[0;34m\u001b[0m\u001b[0m\n",
      "\u001b[0;31mIndexError\u001b[0m: index 28 is out of bounds for axis 1 with size 23"
     ]
    }
   ],
   "source": [
    "for i in which:\n",
    "    feature = x[:,i]\n",
    "    if len(feature[feature==-999]) > 0: #If there is some misplaced value we do not include them in the scatterplot\n",
    "        print(\"ATTENTION: missing values ({h}) in {i}th feature removed!\".format(i=i, h = len(feature[feature==-999])))\n",
    "    feature = feature[feature>-999]\n",
    "    plt.scatter(feature, range(len(feature)))\n",
    "    print(\"Scatter plot for {i}th feature :\".format(i=i))\n",
    "    plt.show()"
   ]
  },
  {
   "cell_type": "markdown",
   "metadata": {},
   "source": [
    "### Histograms"
   ]
  },
  {
   "cell_type": "code",
   "execution_count": 7,
   "metadata": {},
   "outputs": [],
   "source": [
    "def hist_plot(data,i):\n",
    "    # An \"interface\" to matplotlib.axes.Axes.hist() method\n",
    "    n, bins, patches = plt.hist(x=data, bins=50, color='#0504aa',\n",
    "                                alpha=0.7, rwidth=0.85)\n",
    "    plt.grid(axis='y', alpha=0.75)\n",
    "    plt.xlabel('Value')\n",
    "    plt.ylabel('Frequency')\n",
    "    plt.title('{i}th feature'.format(i=i))\n",
    "    maxfreq = n.max()\n",
    "    # Set a clean upper y-axis limit.\n",
    "    plt.ylim(top=np.ceil(maxfreq / 10) * 10 if maxfreq % 10 else maxfreq + 10)\n",
    "    plt.show()"
   ]
  },
  {
   "cell_type": "code",
   "execution_count": 8,
   "metadata": {
    "scrolled": false
   },
   "outputs": [
    {
     "ename": "NameError",
     "evalue": "name 'data0' is not defined",
     "output_type": "error",
     "traceback": [
      "\u001b[0;31m---------------------------------------------------------------------------\u001b[0m",
      "\u001b[0;31mNameError\u001b[0m                                 Traceback (most recent call last)",
      "\u001b[0;32m<ipython-input-8-8ee9fde4fde9>\u001b[0m in \u001b[0;36m<module>\u001b[0;34m()\u001b[0m\n\u001b[1;32m      1\u001b[0m \u001b[0;32mfor\u001b[0m \u001b[0mi\u001b[0m \u001b[0;32min\u001b[0m \u001b[0mwhich\u001b[0m\u001b[0;34m:\u001b[0m\u001b[0;34m\u001b[0m\u001b[0m\n\u001b[0;32m----> 2\u001b[0;31m     \u001b[0mfeature\u001b[0m \u001b[0;34m=\u001b[0m \u001b[0mdata0\u001b[0m\u001b[0;34m[\u001b[0m\u001b[0;34m:\u001b[0m\u001b[0;34m,\u001b[0m\u001b[0;34m-\u001b[0m\u001b[0;36m1\u001b[0m\u001b[0;34m]\u001b[0m\u001b[0;34m\u001b[0m\u001b[0m\n\u001b[0m\u001b[1;32m      3\u001b[0m     \u001b[0mfeature\u001b[0m \u001b[0;34m=\u001b[0m \u001b[0mfeature\u001b[0m\u001b[0;34m[\u001b[0m\u001b[0mfeature\u001b[0m\u001b[0;34m>\u001b[0m\u001b[0;34m-\u001b[0m\u001b[0;36m999\u001b[0m\u001b[0;34m]\u001b[0m\u001b[0;34m\u001b[0m\u001b[0m\n\u001b[1;32m      4\u001b[0m \u001b[0;31m#     hist_plot(feature,i)\u001b[0m\u001b[0;34m\u001b[0m\u001b[0;34m\u001b[0m\u001b[0m\n\u001b[1;32m      5\u001b[0m     \u001b[0msns\u001b[0m\u001b[0;34m.\u001b[0m\u001b[0mdistplot\u001b[0m\u001b[0;34m(\u001b[0m\u001b[0mfeature\u001b[0m\u001b[0;34m,\u001b[0m\u001b[0mbins\u001b[0m\u001b[0;34m=\u001b[0m\u001b[0;36m30\u001b[0m\u001b[0;34m,\u001b[0m\u001b[0mkde\u001b[0m\u001b[0;34m=\u001b[0m\u001b[0;32mTrue\u001b[0m\u001b[0;34m)\u001b[0m\u001b[0;34m\u001b[0m\u001b[0m\n",
      "\u001b[0;31mNameError\u001b[0m: name 'data0' is not defined"
     ]
    }
   ],
   "source": [
    "for i in which:\n",
    "    feature = data0[:,-1]\n",
    "    feature = feature[feature>-999]\n",
    "#     hist_plot(feature,i)\n",
    "    sns.distplot(feature,bins=30,kde=True)\n",
    "    plt.title('{i}th feature'.format(i=i))\n",
    "    plt.show()"
   ]
  },
  {
   "cell_type": "markdown",
   "metadata": {},
   "source": [
    "### Single feature-response plots"
   ]
  },
  {
   "cell_type": "code",
   "execution_count": null,
   "metadata": {
    "scrolled": false
   },
   "outputs": [],
   "source": [
    "for i in which:\n",
    "    print(\"Scatter plot for {i}th feature :\".format(i=i))\n",
    "\n",
    "    t = x[:,i]\n",
    "    plt.scatter(t,y, alpha = 0.5)\n",
    "    mean_x1 = np.mean(t[y == 1])\n",
    "    mean_x0 = np.mean(t[y == -1])\n",
    "    plt.plot(mean_x0,-1,\"or\")\n",
    "    plt.plot(mean_x1,1,\"or\")\n",
    "    plt.show()"
   ]
  },
  {
   "cell_type": "markdown",
   "metadata": {},
   "source": [
    "### Feature boxplots\n",
    "Visually check influence on response"
   ]
  },
  {
   "cell_type": "code",
   "execution_count": null,
   "metadata": {
    "scrolled": false
   },
   "outputs": [],
   "source": [
    "for i in which:\n",
    "    feature = x[:,i]\n",
    "    print(\"Boxplot for {i}th feature :\".format(i=i))\n",
    "    plt.xlim(left = np.min(feature[feature>-999])-0.5)\n",
    "    plt.xlim(right = np.max(feature[feature>-999])+.5)\n",
    "    #the mean is dispayed as a triangle\n",
    "    yes_feat = feature[y==1]\n",
    "    no_feat = feature[y==-1]\n",
    "    plt.boxplot(yes_feat[yes_feat>-999],vert = False, positions=[0],showmeans=True)\n",
    "    plt.boxplot(no_feat[no_feat>-999], vert = False, positions=[-.25], showmeans=True)\n",
    "    plt.show()\n",
    "    \n"
   ]
  },
  {
   "cell_type": "markdown",
   "metadata": {},
   "source": [
    "### Features with \"too many\" -999\n",
    "\n",
    "Checked to eventually remove them."
   ]
  },
  {
   "cell_type": "code",
   "execution_count": null,
   "metadata": {},
   "outputs": [],
   "source": [
    "for i in range(x.shape[1]):\n",
    "    percentage = len(np.where(x[:,i] < -500)[0])/len(x[:,i])*100\n",
    "    print(\"feature {i}: {percentage} of Na\".format(i = i, percentage = percentage))"
   ]
  },
  {
   "cell_type": "markdown",
   "metadata": {},
   "source": [
    "## explanation for deleting feature 19"
   ]
  },
  {
   "cell_type": "markdown",
   "metadata": {},
   "source": [
    "due to high correlation between features 6,17,22, we decided to delete the feature 19 from our \n",
    "data set since it contained 39% of NANs"
   ]
  },
  {
   "cell_type": "markdown",
   "metadata": {},
   "source": [
    "# Deletion feature 19"
   ]
  },
  {
   "cell_type": "code",
   "execution_count": 9,
   "metadata": {
    "scrolled": false
   },
   "outputs": [
    {
     "name": "stdout",
     "output_type": "stream",
     "text": [
      "(250000, 22) (250000,)\n"
     ]
    }
   ],
   "source": [
    "x = np.delete(x_all,[4,5,6,12,19,26,27,28],1)\n",
    "print(x.shape, y.shape)"
   ]
  },
  {
   "cell_type": "markdown",
   "metadata": {},
   "source": [
    "# Inputation of the data "
   ]
  },
  {
   "cell_type": "markdown",
   "metadata": {},
   "source": [
    "we know that the features with missing variables are the 1, 19,20,21. Hence we only \"treat\" these ones by different methods"
   ]
  },
  {
   "cell_type": "code",
   "execution_count": 10,
   "metadata": {},
   "outputs": [],
   "source": [
    "def inputation(data, method = \"mean\"):\n",
    "    '''\n",
    "    input the missing values with the different methods: mean,median\n",
    "    \n",
    "    example of use: data_inputed = inputation(data,method = \"median\")\n",
    "    \n",
    "    for the moment only treat the features number 1,19,20,21 but could be easily generalized if felt necessary\n",
    "    '''\n",
    "    \n",
    "    features_treated = [1,19,20,21]\n",
    "    \n",
    "    if method == \"mean\":\n",
    "        for i in features_treated:\n",
    "            t = data[:,i]\n",
    "            mean = np.mean(t[t != -999])\n",
    "            data_inputed = data.copy()\n",
    "            data_inputed[data_inputed == -999] = mean\n",
    "        \n",
    "        return data_inputed\n",
    "    \n",
    "    if method == \"median\":\n",
    "        for i in features_treated:\n",
    "            t = data[:,i]\n",
    "            mean = np.median(t[t != -999])\n",
    "            data_inputed = data.copy()\n",
    "            data_inputed[data_inputed == -999] = mean\n",
    "        \n",
    "        return data_inputed\n",
    "    \n",
    "        "
   ]
  },
  {
   "cell_type": "code",
   "execution_count": 11,
   "metadata": {
    "scrolled": true
   },
   "outputs": [],
   "source": [
    "test_data = inputation(x,method = \"mean\")"
   ]
  },
  {
   "cell_type": "code",
   "execution_count": 12,
   "metadata": {},
   "outputs": [],
   "source": [
    "test_data_1 = inputation(x,method = \"median\")"
   ]
  },
  {
   "cell_type": "markdown",
   "metadata": {},
   "source": [
    "# Standardization of the data"
   ]
  },
  {
   "cell_type": "code",
   "execution_count": 13,
   "metadata": {},
   "outputs": [],
   "source": [
    "def standardize_data(data):\n",
    "    data = data.copy()\n",
    "    for i in range(0,data.shape[1]):\n",
    "        data[:,i],mean,variance = standardize(data[:,i])\n",
    "    \n",
    "    return data"
   ]
  },
  {
   "cell_type": "code",
   "execution_count": 14,
   "metadata": {},
   "outputs": [],
   "source": [
    "test_data = standardize_data(test_data)\n",
    "test_data_1 = standardize_data(test_data_1)"
   ]
  },
  {
   "cell_type": "code",
   "execution_count": 15,
   "metadata": {},
   "outputs": [],
   "source": [
    "W,error = least_squares(y,test_data)"
   ]
  },
  {
   "cell_type": "code",
   "execution_count": 16,
   "metadata": {},
   "outputs": [],
   "source": [
    "W1, error1 = least_squares(y,test_data_1)"
   ]
  },
  {
   "cell_type": "code",
   "execution_count": 17,
   "metadata": {
    "scrolled": true
   },
   "outputs": [
    {
     "name": "stdout",
     "output_type": "stream",
     "text": [
      "0.9773489037267211 1.0874511871983294e-05\n"
     ]
    }
   ],
   "source": [
    "print(max(abs(W-W1)),abs(error-error1))"
   ]
  },
  {
   "cell_type": "markdown",
   "metadata": {},
   "source": [
    "# Test with CV "
   ]
  },
  {
   "cell_type": "code",
   "execution_count": 18,
   "metadata": {},
   "outputs": [],
   "source": [
    "from Regressions import *"
   ]
  },
  {
   "cell_type": "markdown",
   "metadata": {},
   "source": [
    "test_data is inputed with mean, and test_data_1 is inputed with median"
   ]
  },
  {
   "cell_type": "code",
   "execution_count": 19,
   "metadata": {
    "scrolled": false
   },
   "outputs": [
    {
     "data": {
      "image/png": "[encoded data removed]",
      "text/plain": [
       "<Figure size 432x288 with 1 Axes>"
      ]
     },
     "metadata": {},
     "output_type": "display_data"
    }
   ],
   "source": [
    "w,rmse_te,rmse_tr = cross_validation(y,test_data,k_fold = 5)"
   ]
  },
  {
   "cell_type": "code",
   "execution_count": 20,
   "metadata": {
    "scrolled": true
   },
   "outputs": [
    {
     "data": {
      "image/png": "[encoded data removed]",
      "text/plain": [
       "<Figure size 432x288 with 1 Axes>"
      ]
     },
     "metadata": {},
     "output_type": "display_data"
    }
   ],
   "source": [
    "w1,rmse_te1,rmse_tr1 = cross_validation(y,test_data_1,k_fold = 5)"
   ]
  },
  {
   "cell_type": "markdown",
   "metadata": {},
   "source": [
    "# Prediction test "
   ]
  },
  {
   "cell_type": "code",
   "execution_count": 21,
   "metadata": {},
   "outputs": [],
   "source": [
    "y_test, x_all_test, ids_test = load_csv_data('../Data/test.csv')"
   ]
  },
  {
   "cell_type": "code",
   "execution_count": 22,
   "metadata": {},
   "outputs": [],
   "source": [
    "x_test = np.delete(x_all_test,[4,5,6,12,19,26,27,28],1)"
   ]
  },
  {
   "cell_type": "code",
   "execution_count": 23,
   "metadata": {},
   "outputs": [
    {
     "data": {
      "text/plain": [
       "(568238, 30)"
      ]
     },
     "execution_count": 23,
     "metadata": {},
     "output_type": "execute_result"
    }
   ],
   "source": [
    "x_test = inputation(x_test,method = \"mean\")\n",
    "x_test = standardize_data(x_test)\n",
    "x_all_test.shape"
   ]
  },
  {
   "cell_type": "code",
   "execution_count": 24,
   "metadata": {},
   "outputs": [],
   "source": [
    "y_pred = predict_labels(W,x_test)"
   ]
  },
  {
   "cell_type": "code",
   "execution_count": 25,
   "metadata": {},
   "outputs": [],
   "source": [
    "create_csv_submission(ids_test, y_pred, \"../Data/test_Charles.csv\")"
   ]
  },
  {
   "cell_type": "markdown",
   "metadata": {},
   "source": [
    "# Test for a new method to predict"
   ]
  },
  {
   "cell_type": "markdown",
   "metadata": {},
   "source": [
    "a particular interesting feature is the feature PRI_num_jet, the 17 in our case, 22nd feature in the all dataset"
   ]
  },
  {
   "cell_type": "code",
   "execution_count": 26,
   "metadata": {
    "scrolled": false
   },
   "outputs": [
    {
     "name": "stdout",
     "output_type": "stream",
     "text": [
      "feature 0: 26.15, 9.75, 5.86, 6.66\n",
      "feature 4: 100.0, 100.0, 0.0, 0.0\n",
      "feature 5: 100.0, 100.0, 0.0, 0.0\n",
      "feature 6: 100.0, 100.0, 0.0, 0.0\n",
      "feature 12: 100.0, 100.0, 0.0, 0.0\n",
      "feature 23: 100.0, 0.0, 0.0, 0.0\n",
      "feature 24: 100.0, 0.0, 0.0, 0.0\n",
      "feature 25: 100.0, 0.0, 0.0, 0.0\n",
      "feature 26: 100.0, 100.0, 0.0, 0.0\n",
      "feature 27: 100.0, 100.0, 0.0, 0.0\n",
      "feature 28: 100.0, 100.0, 0.0, 0.0\n"
     ]
    }
   ],
   "source": [
    "x_nj = x[:,17]\n",
    "x_nj_0 = x_all[x_nj == 0]\n",
    "x_nj_1 = x_all[x_nj == 1]\n",
    "x_nj_2 = x_all[x_nj == 2]\n",
    "x_nj_3 = x_all[x_nj == 3]\n",
    "\n",
    "\n",
    "\n",
    "for i in range(30):\n",
    "    per_0 = len(np.where(x_nj_0[:,i] < -500)[0])/len(x_nj_0[:,i])*100\n",
    "    per_1 = len(np.where(x_nj_1[:,i] < -500)[0])/len(x_nj_1[:,i])*100\n",
    "    per_2 = len(np.where(x_nj_2[:,i] < -500)[0])/len(x_nj_2[:,i])*100\n",
    "    per_3 = len(np.where(x_nj_3[:,i] < -500)[0])/len(x_nj_3[:,i])*100\n",
    "    \n",
    "    if per_0 != 0 or per_1 != 0 or per_2 != 0 or per_3 != 0:\n",
    "        print(\"feature {i}: {p}, {p1}, {p2}, {p3}\".format(i = i, p = round(per_0,2), p1 = round(per_1,2),\n",
    "                                                      p2 = round(per_2,2) ,p3 = round(per_3,2)))"
   ]
  },
  {
   "cell_type": "markdown",
   "metadata": {},
   "source": [
    "from this, we derive the hypothesis that in order to better predict the classification, one may use different models in function of the value of the PRI_num_jet: if the values are 2 or 3, there are almost no missing values"
   ]
  },
  {
   "cell_type": "code",
   "execution_count": 27,
   "metadata": {
    "scrolled": true
   },
   "outputs": [
    {
     "name": "stdout",
     "output_type": "stream",
     "text": [
      "0.399652 0.310176 0.201516 0.088656\n"
     ]
    }
   ],
   "source": [
    "print(len(x_nj_0)/len(x_nj),len(x_nj_1)/len(x_nj),len(x_nj_2)/len(x_nj),len(x_nj_3)/len(x_nj))"
   ]
  },
  {
   "cell_type": "markdown",
   "metadata": {},
   "source": [
    "This could at best predict more accurately for at most 30% of our data"
   ]
  },
  {
   "cell_type": "markdown",
   "metadata": {},
   "source": [
    "def split_num_jet(data,y):\n",
    "    '''\n",
    "\n",
    "    num_jet0,y0,num_jet1,y1,num_jet2,y2 = split_num_jet(data)\n",
    "\n",
    "    takes raw data (i.e all the covariates), then return three different dataset depending on the value of num_jet, after\n",
    "    normalizing and doing inputation on the data\n",
    "\n",
    "    return an empty array if there is no num_jet with the corresponding value\n",
    "\n",
    "    the values 2 and 3 are merged since they do not seem to differ a lot and splitting between these two would make the\n",
    "    data_set for the regression even smaller\n",
    "    '''\n",
    "\n",
    "    data = data.copy()\n",
    "    y = y.copy()\n",
    "    \n",
    "    try :\n",
    "        num_jet = data[:,22]\n",
    "    except :\n",
    "        num_jet = data[22]\n",
    "    \n",
    "    \n",
    "    #split the data depending on the value of num_jet\n",
    "    data_n2 = np.vstack((data[num_jet == 2], data[num_jet == 3]))\n",
    "    y2a = y[num_jet == 2].reshape(len(np.where(num_jet== 2)[0]),1)\n",
    "    y2b = y[num_jet == 3].reshape(len(np.where(num_jet== 3)[0]),1)\n",
    "    y2 = np.vstack((y2a,y2b))\n",
    "    data_n0 = data[num_jet == 0]\n",
    "    y0 = y[num_jet == 0]\n",
    "    y0.reshape(len(y0),1)\n",
    "    data_n1 = data[num_jet == 1]\n",
    "    y1 = y[num_jet == 1]\n",
    "    y1 = y1.reshape(len(y1),1)\n",
    "    \n",
    "    data_n0 = inputation(data_n0,features_treated = [0])\n",
    "    data_n1 = inputation(data_n1,features_treated = [0])\n",
    "    data_n2 = inputation(data_n2,features_treated = [0])\n",
    "    \n",
    "    #delete the features with 100% of NA depending on the value if num_jet, plud deletion of the feature num_jet\n",
    "    data_n0_modified = np.delete(data_n0,[4,6,12,23,24,25,26,27,28,22],1)\n",
    "    data_n1_modified = np.delete(data_n1,[4,5,6,12,26,27,28,22],1)\n",
    "    data_n2_modified = np.delete(data_n2,[22],1)\n",
    "    \n",
    "    \n",
    "    data_n1_modified = standardize_data(data_n1_modified)\n",
    "    data_n2_modified = standardize_data(data_n2_modified)\n",
    "    data_n0_modified = standardize_data(data_n0_modified)\n",
    "    \n",
    "    return data_n0_modified,y0,data_n1_modified,y1,data_n2_modified,y2\n"
   ]
  },
  {
   "cell_type": "code",
   "execution_count": 29,
   "metadata": {},
   "outputs": [],
   "source": [
    "data0,y0, data1,y1, data2,y2 = split_num_jet_test(x_all,y)"
   ]
  },
  {
   "cell_type": "markdown",
   "metadata": {},
   "source": [
    "since the matrix has a row of 0 at the end, we don't care for it (no information given) and deleting it allows us to have an invertible matrix"
   ]
  },
  {
   "cell_type": "code",
   "execution_count": 30,
   "metadata": {},
   "outputs": [],
   "source": [
    "data0_test = np.delete(data0,[data0.shape[1]-1],1)"
   ]
  },
  {
   "cell_type": "code",
   "execution_count": 31,
   "metadata": {},
   "outputs": [],
   "source": [
    "w1,error1 = least_squares(y1,data1)"
   ]
  },
  {
   "cell_type": "code",
   "execution_count": 32,
   "metadata": {},
   "outputs": [],
   "source": [
    "w0,error0 = least_squares(y0,data0_test)"
   ]
  },
  {
   "cell_type": "code",
   "execution_count": 33,
   "metadata": {},
   "outputs": [],
   "source": [
    "w2,error2 = least_squares(y2,data2)"
   ]
  },
  {
   "cell_type": "code",
   "execution_count": 65,
   "metadata": {},
   "outputs": [],
   "source": [
    "def predict_multiple_models(matrix,w0,w1,w2,ids):\n",
    "    \n",
    "    #in the process of cutting the data in different parts with split_num_jet\n",
    "    if w0.shape[0]==19:\n",
    "        w0 = np.append(w0,[0])\n",
    "    \n",
    "    #we split the data depending on the different values of num_jet\n",
    "    data0,id0, data1,id1, data2,id2 = split_num_jet(matrix,ids)\n",
    "    \n",
    "    #we predict separatly using the different models\n",
    "    y0 = predict_labels(w0,data0)\n",
    "    y1 = predict_labels(w1,data1)\n",
    "    y2 = predict_labels(w2,data2)\n",
    "    \n",
    "    #we merge the prediction to return a single vector of predictions and a vector of ids\n",
    "    y0 = y0.reshape(len(y0),1)\n",
    "    y1 = y1.reshape(len(y1),1)\n",
    "    y2 = y2.reshape(len(y2),1)\n",
    "    id0 = id0.reshape(len(id0),1)\n",
    "    id1 = id1.reshape(len(id1),1)\n",
    "    id2 = id2.reshape(len(id2),1)\n",
    "\n",
    "    y = np.vstack((y0,y1,y2))\n",
    "    ids_new = np.vstack((id0,id1,id2))\n",
    "    \n",
    "    #merge and sort so the indices are in the right order for the ouput\n",
    "    predictions = np.hstack((y,ids_new))\n",
    "    predictions[np.lexsort((predictions[:,0],predictions[:,1]))]\n",
    "    y = predictions[:,0]\n",
    "    ids_new = predictions[:,1]\n",
    "    \n",
    "    return y,ids_new\n",
    "    \n",
    "    "
   ]
  },
  {
   "cell_type": "code",
   "execution_count": 66,
   "metadata": {},
   "outputs": [
    {
     "name": "stdout",
     "output_type": "stream",
     "text": [
      "(227458, 20) (175338, 22) (165442, 29)\n",
      "(20,) (22, 1) (29, 1)\n"
     ]
    }
   ],
   "source": [
    "y_test,ids_test = predict_multiple_models(x_all_test,w0,w1,w2,ids_test)"
   ]
  }
 ],
 "metadata": {
  "kernelspec": {
   "display_name": "Python 3",
   "language": "python",
   "name": "python3"
  },
  "language_info": {
   "codemirror_mode": {
    "name": "ipython",
    "version": 3
   },
   "file_extension": ".py",
   "mimetype": "text/x-python",
   "name": "python",
   "nbconvert_exporter": "python",
   "pygments_lexer": "ipython3",
   "version": "3.6.4"
  }
 },
 "nbformat": 4,
 "nbformat_minor": 2
}
