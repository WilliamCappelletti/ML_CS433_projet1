{
 "cells": [
  {
   "cell_type": "code",
   "execution_count": 10,
   "metadata": {},
   "outputs": [],
   "source": [
    "%matplotlib inline\n",
    "import numpy as np\n",
    "import matplotlib.pyplot as plt\n",
    "import seaborn as sns\n",
    "%load_ext autoreload\n",
    "%autoreload 2\n",
    "\n",
    "sns.set()"
   ]
  },
  {
   "cell_type": "markdown",
   "metadata": {},
   "source": [
    "Our library"
   ]
  },
  {
   "cell_type": "code",
   "execution_count": 11,
   "metadata": {
    "scrolled": true
   },
   "outputs": [],
   "source": [
    "from proj1_helpers import *\n",
    "from data_utility import *\n",
    "from Regressions import *"
   ]
  },
  {
   "cell_type": "markdown",
   "metadata": {},
   "source": [
    "### Data loading"
   ]
  },
  {
   "cell_type": "code",
   "execution_count": 3,
   "metadata": {},
   "outputs": [],
   "source": [
    "y_tr, X_tr, ids_tr = load_csv_data('../Data/train.csv')\n",
    "y_te, X_te, ids_te = load_csv_data('../Data/test.csv')"
   ]
  },
  {
   "cell_type": "markdown",
   "metadata": {},
   "source": [
    "preliminary Data treatment"
   ]
  },
  {
   "cell_type": "code",
   "execution_count": 4,
   "metadata": {
    "scrolled": true
   },
   "outputs": [
    {
     "name": "stdout",
     "output_type": "stream",
     "text": [
      "Removed features: \n",
      " (array([22]),)\n"
     ]
    }
   ],
   "source": [
    "n,p = X_tr.shape\n",
    "keepers = np.ones(p, dtype=bool)\n",
    "\n",
    "y_tr[y_tr==-1] = 0\n",
    "y_te[y_te==-1] = 0\n",
    "\n",
    "# for i in range(p):\n",
    "#     percentage = len(np.where(X_tr[:,i] ==-999)[0])/n*100\n",
    "#     if percentage > 70:\n",
    "#         keepers[i] = 0\n",
    "keepers[22] = 0 #Remove jet_num\n",
    "\n",
    "print(\"Removed features: \\n\",np.where(keepers == 0))\n",
    "x_tr = preliminary_treatment_X(X_tr, keepers)\n",
    "x_te = preliminary_treatment_X(X_te, keepers)\n",
    "n,p = x_tr.shape"
   ]
  },
  {
   "cell_type": "code",
   "execution_count": 5,
   "metadata": {
    "scrolled": false
   },
   "outputs": [
    {
     "name": "stdout",
     "output_type": "stream",
     "text": [
      "250000 34\n"
     ]
    }
   ],
   "source": [
    "print(n,p)"
   ]
  },
  {
   "cell_type": "markdown",
   "metadata": {},
   "source": [
    "## which Definition"
   ]
  },
  {
   "cell_type": "code",
   "execution_count": 7,
   "metadata": {},
   "outputs": [],
   "source": [
    "which = range(p) #Change according to desired features in tests"
   ]
  },
  {
   "cell_type": "markdown",
   "metadata": {},
   "source": [
    "# Lasso"
   ]
  },
  {
   "cell_type": "code",
   "execution_count": 9,
   "metadata": {},
   "outputs": [
    {
     "name": "stdout",
     "output_type": "stream",
     "text": [
      "3 5\n"
     ]
    }
   ],
   "source": [
    "def f(b=0,**kwargs):\n",
    "    print(kwargs.get('a', 0),b)\n",
    "    pass\n",
    "\n",
    "f(a=3, b=5)"
   ]
  },
  {
   "cell_type": "code",
   "execution_count": null,
   "metadata": {},
   "outputs": [],
   "source": [
    "def lasso_regression(y, tx, lambda_, max_iters = 100, gamma = 0.0005, *args, pred=False):\n",
    "    \"\"\"implement ridge regression.\n",
    "    Returns [predictor,] w, loss.\n",
    "    \"\"\"\n",
    "    w = np.zeros(tx.shape[1])\n",
    "    for n_iter in range(max_iters):\n",
    "        \n",
    "        grad,_ = compute_gradient(y, x, w, lambda_=lambda_, loss = \"lasso\")\n",
    "\n",
    "        w_old = w\n",
    "        # update w with gradient update\n",
    "        w = w - gamma * grad\n",
    "        # calculate loss\n",
    "        # y = y.reshape(len(y),1)\n",
    "        loss = np.mean(abs(y - categories(pred_logistic(x,w))))\n",
    "        \n",
    "        #convergence criterion\n",
    "        if max(abs(w_old-w))/(1+max(abs(w_old))) < 10**-3:\n",
    "            break  \n",
    "    \n",
    "    if pred:\n",
    "        return linear_predictor, w, loss_f(err_f(y, tx, linear_predictor, w))\n",
    "    return w, loss_f(err_f(y, tx, linear_predictor, w))"
   ]
  }
 ],
 "metadata": {
  "kernelspec": {
   "display_name": "Python 3",
   "language": "python",
   "name": "python3"
  },
  "language_info": {
   "codemirror_mode": {
    "name": "ipython",
    "version": 3
   },
   "file_extension": ".py",
   "mimetype": "text/x-python",
   "name": "python",
   "nbconvert_exporter": "python",
   "pygments_lexer": "ipython3",
   "version": "3.6.5"
  }
 },
 "nbformat": 4,
 "nbformat_minor": 2
}
