{
 "cells": [
  {
   "cell_type": "code",
   "execution_count": 1,
   "metadata": {},
   "outputs": [],
   "source": [
    "%matplotlib inline\n",
    "import numpy as np\n",
    "import matplotlib.pyplot as plt\n",
    "import seaborn as sns\n",
    "%load_ext autoreload\n",
    "%autoreload 2\n",
    "\n",
    "sns.set()"
   ]
  },
  {
   "cell_type": "markdown",
   "metadata": {},
   "source": [
    "Our library"
   ]
  },
  {
   "cell_type": "code",
   "execution_count": 2,
   "metadata": {
    "scrolled": true
   },
   "outputs": [],
   "source": [
    "from proj1_helpers import *\n",
    "from data_utility import *\n",
    "from Regressions import *"
   ]
  },
  {
   "cell_type": "markdown",
   "metadata": {},
   "source": [
    "### Data loading"
   ]
  },
  {
   "cell_type": "code",
   "execution_count": 3,
   "metadata": {},
   "outputs": [],
   "source": [
    "y_tr, X_tr, ids_tr = load_csv_data('../Data/train.csv')\n",
    "y_te, X_te, ids_te = load_csv_data('../Data/test.csv')"
   ]
  },
  {
   "cell_type": "markdown",
   "metadata": {},
   "source": [
    "preliminary Data treatment"
   ]
  },
  {
   "cell_type": "code",
   "execution_count": 18,
   "metadata": {
    "scrolled": true
   },
   "outputs": [
    {
     "name": "stdout",
     "output_type": "stream",
     "text": [
      "Removed features: \n",
      " (array([22]),)\n"
     ]
    }
   ],
   "source": [
    "n,p = X_tr.shape\n",
    "keepers = np.ones(p, dtype=bool)\n",
    "\n",
    "y_tr[y_tr==-1] = 0\n",
    "y_te[y_te==-1] = 0\n",
    "\n",
    "# for i in range(p):\n",
    "#     percentage = len(np.where(X_tr[:,i] ==-999)[0])/n*100\n",
    "#     if percentage > 70:\n",
    "#         keepers[i] = 0\n",
    "keepers[22] = 0 #Remove jet_num\n",
    "\n",
    "print(\"Removed features: \\n\",np.where(keepers == 0))\n",
    "x_tr = preliminary_treatment_X(X_tr, keepers)\n",
    "x_te = preliminary_treatment_X(X_te, keepers)\n",
    "n,p = x_tr.shape"
   ]
  },
  {
   "cell_type": "code",
   "execution_count": 19,
   "metadata": {
    "scrolled": false
   },
   "outputs": [
    {
     "name": "stdout",
     "output_type": "stream",
     "text": [
      "250000 33\n"
     ]
    }
   ],
   "source": [
    "print(n,p)"
   ]
  },
  {
   "cell_type": "code",
   "execution_count": 20,
   "metadata": {},
   "outputs": [
    {
     "name": "stdout",
     "output_type": "stream",
     "text": [
      "(250000, 100)\n"
     ]
    }
   ],
   "source": [
    "tx = build_poly(x_tr, 3)\n",
    "print(tx.shape)"
   ]
  },
  {
   "cell_type": "markdown",
   "metadata": {},
   "source": [
    "## which Definition"
   ]
  },
  {
   "cell_type": "code",
   "execution_count": 7,
   "metadata": {},
   "outputs": [],
   "source": [
    "which = range(p) #Change according to desired features in tests"
   ]
  },
  {
   "cell_type": "markdown",
   "metadata": {},
   "source": [
    "# Lasso"
   ]
  },
  {
   "cell_type": "code",
   "execution_count": 17,
   "metadata": {},
   "outputs": [
    {
     "name": "stdout",
     "output_type": "stream",
     "text": [
      "[[  1.   0.   0.   0.   2.   4.   3.   9.   4.  16.   5.  25.   6.  36.\n",
      "    7.  49.   8.  64.   9.  81.  10. 100.  11. 121.  12. 144.  13. 169.\n",
      "   14. 196.  15. 225.  16. 256.  17. 289.  18. 324.  19. 361.  20. 400.\n",
      "   21. 441.  22. 484.  23. 529.  25. 625.  26. 676.  27. 729.  28. 784.\n",
      "   29. 841.  30. 900.  31. 961.]\n",
      " [  0.   1.   0.   0.   2.   4.   3.   9.   4.  16.   5.  25.   6.  36.\n",
      "    7.  49.   8.  64.   9.  81.  10. 100.  11. 121.  12. 144.  13. 169.\n",
      "   14. 196.  15. 225.  16. 256.  17. 289.  18. 324.  19. 361.  20. 400.\n",
      "   21. 441.  22. 484.  23. 529.  25. 625.  26. 676.  27. 729.  28. 784.\n",
      "   29. 841.  30. 900.  31. 961.]\n",
      " [  0.   0.   1.   0.   2.   4.   3.   9.   4.  16.   5.  25.   6.  36.\n",
      "    7.  49.   8.  64.   9.  81.  10. 100.  11. 121.  12. 144.  13. 169.\n",
      "   14. 196.  15. 225.  16. 256.  17. 289.  18. 324.  19. 361.  20. 400.\n",
      "   21. 441.  22. 484.  23. 529.  25. 625.  26. 676.  27. 729.  28. 784.\n",
      "   29. 841.  30. 900.  31. 961.]\n",
      " [  0.   0.   0.   1.   2.   4.   3.   9.   4.  16.   5.  25.   6.  36.\n",
      "    7.  49.   8.  64.   9.  81.  10. 100.  11. 121.  12. 144.  13. 169.\n",
      "   14. 196.  15. 225.  16. 256.  17. 289.  18. 324.  19. 361.  20. 400.\n",
      "   21. 441.  22. 484.  23. 529.  25. 625.  26. 676.  27. 729.  28. 784.\n",
      "   29. 841.  30. 900.  31. 961.]]\n"
     ]
    }
   ],
   "source": [
    "a = np.arange(30)+2\n",
    "np.reshape(a,(1,30))\n",
    "test = np.vstack((a,a,a,a))\n",
    "for i in range(4):\n",
    "    test[i,22]=i\n",
    "    pass\n",
    "test = preliminary_treatment_X(test)\n",
    "test = build_poly(test, 2, pretreated=True)\n",
    "print(test)"
   ]
  },
  {
   "cell_type": "code",
   "execution_count": null,
   "metadata": {},
   "outputs": [],
   "source": []
  },
  {
   "cell_type": "code",
   "execution_count": 178,
   "metadata": {},
   "outputs": [],
   "source": [
    "w = np.zeros(x_tr.shape[1])"
   ]
  },
  {
   "cell_type": "code",
   "execution_count": 179,
   "metadata": {},
   "outputs": [],
   "source": [
    "lambda_ = 0.5"
   ]
  },
  {
   "cell_type": "code",
   "execution_count": 180,
   "metadata": {
    "scrolled": true
   },
   "outputs": [
    {
     "name": "stdout",
     "output_type": "stream",
     "text": [
      "[-0.00382857  1.86734286]\n",
      "(array([0]),)\n"
     ]
    }
   ],
   "source": [
    "w, losses = lasso_regression(y_tr, x_tr, lambda_, w, gamma=0.05, max_iters=500, printing=False)\n",
    "print(w)\n",
    "print(np.where(w<(5*10**(-5))))"
   ]
  },
  {
   "cell_type": "code",
   "execution_count": 80,
   "metadata": {},
   "outputs": [
    {
     "name": "stdout",
     "output_type": "stream",
     "text": [
      "3 5\n"
     ]
    }
   ],
   "source": [
    "def f(b=0,**kwargs):\n",
    "    print(kwargs.get('a', 0),b)\n",
    "    pass\n",
    "\n",
    "f(a=3, b=5)"
   ]
  },
  {
   "cell_type": "code",
   "execution_count": null,
   "metadata": {},
   "outputs": [],
   "source": [
    "def lasso_regression(y, tx, lambda_, max_iters = 100, gamma = 0.0005, *args, pred=False):\n",
    "    \"\"\"implement ridge regression.\n",
    "    Returns [predictor,] w, loss.\n",
    "    \"\"\"\n",
    "    w = np.zeros(tx.shape[1])\n",
    "    for n_iter in range(max_iters):\n",
    "        \n",
    "        grad,_ = compute_gradient(y, x, w, lambda_=lambda_, loss = \"lasso\")\n",
    "\n",
    "        w_old = w\n",
    "        # update w with gradient update\n",
    "        w = w - gamma * grad\n",
    "        # calculate loss\n",
    "        # y = y.reshape(len(y),1)\n",
    "        loss = np.mean(abs(y - categories(pred_logistic(x,w))))\n",
    "        \n",
    "        #convergence criterion\n",
    "        if max(abs(w_old-w))/(1+max(abs(w_old))) < 10**-3:\n",
    "            break  \n",
    "    \n",
    "    if pred:\n",
    "        return linear_predictor, w, loss_f(err_f(y, tx, linear_predictor, w))\n",
    "    return w, loss_f(err_f(y, tx, linear_predictor, w))"
   ]
  }
 ],
 "metadata": {
  "kernelspec": {
   "display_name": "Python 3",
   "language": "python",
   "name": "python3"
  },
  "language_info": {
   "codemirror_mode": {
    "name": "ipython",
    "version": 3
   },
   "file_extension": ".py",
   "mimetype": "text/x-python",
   "name": "python",
   "nbconvert_exporter": "python",
   "pygments_lexer": "ipython3",
   "version": "3.6.5"
  }
 },
 "nbformat": 4,
 "nbformat_minor": 2
}
